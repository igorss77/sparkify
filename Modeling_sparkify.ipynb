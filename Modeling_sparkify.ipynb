{
 "cells": [
  {
   "cell_type": "markdown",
   "metadata": {},
   "source": [
    "Split the full dataset into train, test, and validation sets. Test out several of the machine learning methods you learned. Evaluate the accuracy of the various models, tuning parameters as necessary. Determine your winning model based on test accuracy and report results on the validation set. Since the churned users are a fairly small subset, I suggest using F1 score as the metric to optimize."
   ]
  },
  {
   "cell_type": "code",
   "execution_count": 2,
   "metadata": {},
   "outputs": [],
   "source": [
    "from pyspark.sql import SparkSession\n",
    "from pyspark.sql import Window\n",
    "import pyspark.sql.functions as F\n",
    "from pyspark.sql.functions import asc, desc, log\n",
    "from pyspark.ml.tuning import ParamGridBuilder, CrossValidator\n",
    "\n",
    "from pyspark.sql.types import IntegerType, StringType, DoubleType, LongType, BooleanType, TimestampType, DateType\n",
    "from pyspark.ml.feature import RegexTokenizer, VectorAssembler, MinMaxScaler, StringIndexer,OneHotEncoderEstimator\n",
    "from pyspark.ml.classification import GBTClassifier, RandomForestClassifier, LinearSVCModel, LogisticRegression\n",
    "from pyspark.ml.evaluation import MulticlassClassificationEvaluator, BinaryClassificationEvaluator\n",
    "from pyspark.ml import Pipeline, PipelineModel\n",
    "import time\n",
    "import pandas as pd\n",
    "from workspace_utils import active_session\n",
    "import numpy as np\n",
    "import seaborn as sns\n",
    "%matplotlib inline\n",
    "import matplotlib.pyplot as plt"
   ]
  },
  {
   "cell_type": "code",
   "execution_count": 3,
   "metadata": {},
   "outputs": [],
   "source": [
    "# create a Spark session\n",
    "spark = SparkSession \\\n",
    "    .builder \\\n",
    "    .appName(\"Sparkify_Modelling\") \\\n",
    "    .getOrCreate()"
   ]
  },
  {
   "cell_type": "markdown",
   "metadata": {},
   "source": [
    "# Reading Data"
   ]
  },
  {
   "cell_type": "code",
   "execution_count": 4,
   "metadata": {},
   "outputs": [],
   "source": [
    "data_path = \"final_df.json\""
   ]
  },
  {
   "cell_type": "code",
   "execution_count": 5,
   "metadata": {},
   "outputs": [],
   "source": [
    "df = spark.read.json(data_path)"
   ]
  },
  {
   "cell_type": "code",
   "execution_count": 6,
   "metadata": {},
   "outputs": [],
   "source": [
    "df=df.dropDuplicates()"
   ]
  },
  {
   "cell_type": "code",
   "execution_count": 7,
   "metadata": {},
   "outputs": [
    {
     "name": "stdout",
     "output_type": "stream",
     "text": [
      "+---------------+------+\n",
      "|user_churn_flag| count|\n",
      "+---------------+------+\n",
      "|              0|233290|\n",
      "|              1| 44864|\n",
      "+---------------+------+\n",
      "\n"
     ]
    }
   ],
   "source": [
    "df.groupBy(\"user_churn_flag\").count().show()"
   ]
  },
  {
   "cell_type": "markdown",
   "metadata": {},
   "source": [
    "We have too many values for class 0. In this way, we need to apply undersampling technique to get a model capable to predict both class in a fair way"
   ]
  },
  {
   "cell_type": "markdown",
   "metadata": {},
   "source": [
    "https://github.com/phatak-dev/spark-ml-kaggle/blob/master/src/main/scala/com/madhukaraphatak/spark/ml/UnderSampling.scala"
   ]
  },
  {
   "cell_type": "code",
   "execution_count": 8,
   "metadata": {},
   "outputs": [],
   "source": [
    "def undersample(df):\n",
    "    '''\n",
    "    Undersampling values for minority class no churn (0)\n",
    "    Input : Spark dataframe\n",
    "    Output: Balanced Spark Dataframe\n",
    "    '''\n",
    "    FraudDf = df.filter(df.user_churn_flag=='1')\n",
    "    nonFraudDf = df.filter(df.user_churn_flag=='0')\n",
    "    #random sample the nonFraud to match the value of fraud\n",
    "    sampleRatio = df.filter(df.user_churn_flag=='1').count()\n",
    "    nonFraudSampleDf = nonFraudDf.sample(1.0,seed=42).limit(sampleRatio)\n",
    "    result = FraudDf.union(nonFraudSampleDf)\n",
    "    \n",
    "    return result"
   ]
  },
  {
   "cell_type": "code",
   "execution_count": 9,
   "metadata": {
    "scrolled": true
   },
   "outputs": [],
   "source": [
    "result = undersample(df)"
   ]
  },
  {
   "cell_type": "code",
   "execution_count": 10,
   "metadata": {},
   "outputs": [
    {
     "name": "stdout",
     "output_type": "stream",
     "text": [
      "+---------------+-----+\n",
      "|user_churn_flag|count|\n",
      "+---------------+-----+\n",
      "|              0|44864|\n",
      "|              1|44864|\n",
      "+---------------+-----+\n",
      "\n"
     ]
    }
   ],
   "source": [
    "result.groupBy(\"user_churn_flag\").count().show()"
   ]
  },
  {
   "cell_type": "code",
   "execution_count": 11,
   "metadata": {},
   "outputs": [
    {
     "name": "stdout",
     "output_type": "stream",
     "text": [
      "root\n",
      " |-- About: long (nullable = true)\n",
      " |-- Add Friend: long (nullable = true)\n",
      " |-- Add to Playlist: long (nullable = true)\n",
      " |-- Downgrade: long (nullable = true)\n",
      " |-- Error: long (nullable = true)\n",
      " |-- Help: long (nullable = true)\n",
      " |-- Home: long (nullable = true)\n",
      " |-- Logout: long (nullable = true)\n",
      " |-- NextSong: long (nullable = true)\n",
      " |-- Roll Advert: long (nullable = true)\n",
      " |-- Save Settings: long (nullable = true)\n",
      " |-- Settings: long (nullable = true)\n",
      " |-- Submit Downgrade: long (nullable = true)\n",
      " |-- Submit Upgrade: long (nullable = true)\n",
      " |-- Thumbs Down: long (nullable = true)\n",
      " |-- Thumbs Up: long (nullable = true)\n",
      " |-- Upgrade: long (nullable = true)\n",
      " |-- active_days_count: long (nullable = true)\n",
      " |-- artist: string (nullable = true)\n",
      " |-- auth: string (nullable = true)\n",
      " |-- browser: string (nullable = true)\n",
      " |-- churn: long (nullable = true)\n",
      " |-- current_condition: string (nullable = true)\n",
      " |-- downgraded: long (nullable = true)\n",
      " |-- firstName: string (nullable = true)\n",
      " |-- free_sessions: long (nullable = true)\n",
      " |-- gender: string (nullable = true)\n",
      " |-- gender_flag: long (nullable = true)\n",
      " |-- hour: string (nullable = true)\n",
      " |-- itemInSession: long (nullable = true)\n",
      " |-- lastName: string (nullable = true)\n",
      " |-- length: double (nullable = true)\n",
      " |-- level: string (nullable = true)\n",
      " |-- location: string (nullable = true)\n",
      " |-- location_state: string (nullable = true)\n",
      " |-- method: string (nullable = true)\n",
      " |-- os: string (nullable = true)\n",
      " |-- page: string (nullable = true)\n",
      " |-- paid_sessions: long (nullable = true)\n",
      " |-- phase: long (nullable = true)\n",
      " |-- registration: long (nullable = true)\n",
      " |-- registration_dt: string (nullable = true)\n",
      " |-- sessionId: long (nullable = true)\n",
      " |-- song: string (nullable = true)\n",
      " |-- song_count: long (nullable = true)\n",
      " |-- status: long (nullable = true)\n",
      " |-- tenure: long (nullable = true)\n",
      " |-- ts: string (nullable = true)\n",
      " |-- userAgent: string (nullable = true)\n",
      " |-- userId: string (nullable = true)\n",
      " |-- user_churn_flag: long (nullable = true)\n",
      "\n"
     ]
    }
   ],
   "source": [
    "result.printSchema()"
   ]
  },
  {
   "cell_type": "code",
   "execution_count": 12,
   "metadata": {},
   "outputs": [],
   "source": [
    "df= result.select('About','Add Friend','Add to Playlist','Downgrade','Error','Help','Home','Logout','NextSong','Roll Advert',\n",
    "   'Save Settings','Settings','Submit Downgrade','Submit Upgrade','Thumbs Down','Thumbs Up','Upgrade','active_days_count',\n",
    "    'gender_flag','tenure','status','level','location_state','os','browser','current_condition','user_churn_flag')"
   ]
  },
  {
   "cell_type": "code",
   "execution_count": 13,
   "metadata": {},
   "outputs": [
    {
     "data": {
      "text/plain": [
       "['About',\n",
       " 'Add Friend',\n",
       " 'Add to Playlist',\n",
       " 'Downgrade',\n",
       " 'Error',\n",
       " 'Help',\n",
       " 'Home',\n",
       " 'Logout',\n",
       " 'NextSong',\n",
       " 'Roll Advert',\n",
       " 'Save Settings',\n",
       " 'Settings',\n",
       " 'Submit Downgrade',\n",
       " 'Submit Upgrade',\n",
       " 'Thumbs Down',\n",
       " 'Thumbs Up',\n",
       " 'Upgrade',\n",
       " 'active_days_count',\n",
       " 'gender_flag',\n",
       " 'tenure',\n",
       " 'status']"
      ]
     },
     "execution_count": 13,
     "metadata": {},
     "output_type": "execute_result"
    }
   ],
   "source": [
    "df.columns[:-6]"
   ]
  },
  {
   "cell_type": "code",
   "execution_count": 14,
   "metadata": {},
   "outputs": [],
   "source": [
    "# One hot enconding and vector assembler\n",
    "status_indexer = StringIndexer(inputCol='status', outputCol='status_index')\n",
    "level_indexer = StringIndexer(inputCol='current_condition', outputCol='level_index')\n",
    "loc_st_indexer = StringIndexer(inputCol='location_state', outputCol='loc_st_index')\n",
    "os_indexer = StringIndexer(inputCol='os', outputCol='os_index')\n",
    "browser_indexer = StringIndexer(inputCol='browser', outputCol='browser_index')\n",
    "\n",
    "ohe = OneHotEncoderEstimator(inputCols=['status_index','level_index','os_index','loc_st_index',\n",
    "                                 'browser_index'],outputCols=['status_enc','level_enc','os_enc','loc_st_enc','browser_enc'])\n",
    "assembler = VectorAssembler(inputCols=df.columns[:-6]+['status_enc','level_enc','os_enc','loc_st_enc','browser_enc']\n",
    "                            , outputCol=\"FeatureVec\")\n",
    "minMax = MinMaxScaler(inputCol = assembler.getOutputCol(), outputCol=\"features\")\n",
    "\n"
   ]
  },
  {
   "cell_type": "markdown",
   "metadata": {},
   "source": [
    "# Split data and prepare to Predict"
   ]
  },
  {
   "cell_type": "code",
   "execution_count": 15,
   "metadata": {},
   "outputs": [
    {
     "name": "stdout",
     "output_type": "stream",
     "text": [
      "total time to fit: 165.885577917099\n"
     ]
    }
   ],
   "source": [
    "# fit pipeline\n",
    "pipeline = Pipeline(stages=[status_indexer, level_indexer,loc_st_indexer, os_indexer, browser_indexer, ohe, assembler,minMax])\n",
    "start = time.time()\n",
    "pipelineModel = pipeline.fit(df)\n",
    "end = time.time()\n",
    "total = end -start\n",
    "print(f\"total time to fit: {total}\")"
   ]
  },
  {
   "cell_type": "code",
   "execution_count": 16,
   "metadata": {},
   "outputs": [],
   "source": [
    "# transform Pipeline\n",
    "model_prep = pipelineModel.transform(df)\n"
   ]
  },
  {
   "cell_type": "code",
   "execution_count": 17,
   "metadata": {},
   "outputs": [],
   "source": [
    "features = [col for col in model_prep.columns if col!='user_churn_flag']"
   ]
  },
  {
   "cell_type": "code",
   "execution_count": 18,
   "metadata": {},
   "outputs": [],
   "source": [
    "data = model_prep.select(\"features\",\"user_churn_flag\")"
   ]
  },
  {
   "cell_type": "code",
   "execution_count": 19,
   "metadata": {},
   "outputs": [
    {
     "name": "stdout",
     "output_type": "stream",
     "text": [
      "Training Rows: 62881  Testing Rows: 26847\n"
     ]
    }
   ],
   "source": [
    "splits = data.randomSplit([0.7, 0.3],seed=42)\n",
    "train = splits[0].withColumnRenamed(\"user_churn_flag\", \"target\")\n",
    "test = splits[1].withColumnRenamed(\"user_churn_flag\", \"target\")\n",
    "train_rows = train.count()\n",
    "test_rows = test.count()\n",
    "print(\"Training Rows:\", train_rows, \" Testing Rows:\", test_rows)"
   ]
  },
  {
   "cell_type": "code",
   "execution_count": 20,
   "metadata": {},
   "outputs": [
    {
     "name": "stdout",
     "output_type": "stream",
     "text": [
      "+-------------------+\n",
      "|        avg(target)|\n",
      "+-------------------+\n",
      "|0.49830632464496427|\n",
      "+-------------------+\n",
      "\n"
     ]
    }
   ],
   "source": [
    "train.select('target').agg(F.avg('target')).show()"
   ]
  },
  {
   "cell_type": "code",
   "execution_count": 21,
   "metadata": {
    "scrolled": true
   },
   "outputs": [
    {
     "name": "stdout",
     "output_type": "stream",
     "text": [
      "+------------------+\n",
      "|       avg(target)|\n",
      "+------------------+\n",
      "|0.5039669236786233|\n",
      "+------------------+\n",
      "\n"
     ]
    }
   ],
   "source": [
    "test.select('target').agg(F.avg('target')).show()"
   ]
  },
  {
   "cell_type": "markdown",
   "metadata": {},
   "source": [
    "# Random Forest"
   ]
  },
  {
   "cell_type": "code",
   "execution_count": 22,
   "metadata": {},
   "outputs": [
    {
     "name": "stdout",
     "output_type": "stream",
     "text": [
      "total time to fit: 111.12432837486267\n"
     ]
    }
   ],
   "source": [
    "rf = RandomForestClassifier(labelCol='target',seed=42)\n",
    "start = time.time()\n",
    "model_rf = rf.fit(train)\n",
    "end = time.time()\n",
    "total = end -start\n",
    "print(f\"total time to fit: {total}\")"
   ]
  },
  {
   "cell_type": "code",
   "execution_count": 108,
   "metadata": {},
   "outputs": [
    {
     "name": "stdout",
     "output_type": "stream",
     "text": [
      "+--------------------+----------+------+\n",
      "|            features|prediction|target|\n",
      "+--------------------+----------+------+\n",
      "|[0.0,0.0,0.0125,0...|       1.0|     1|\n",
      "|[0.0,0.0,0.0125,0...|       1.0|     1|\n",
      "+--------------------+----------+------+\n",
      "only showing top 2 rows\n",
      "\n"
     ]
    }
   ],
   "source": [
    "prediction = model_rf.transform(test)\n",
    "predicted = prediction.select(\"features\", \"prediction\", \"target\")\n",
    "\n",
    "predicted.show(2)"
   ]
  },
  {
   "cell_type": "code",
   "execution_count": 109,
   "metadata": {},
   "outputs": [
    {
     "name": "stdout",
     "output_type": "stream",
     "text": [
      "+---------+------------------+\n",
      "|   metric|             value|\n",
      "+---------+------------------+\n",
      "|       TP|           13530.0|\n",
      "|       FP|            3471.0|\n",
      "|       TN|            9846.0|\n",
      "|       FN|               0.0|\n",
      "|Precision|0.7958355390859361|\n",
      "|   Recall|               1.0|\n",
      "|       F1|0.8863122727719366|\n",
      "+---------+------------------+\n",
      "\n"
     ]
    }
   ],
   "source": [
    "tp = float(predicted.filter(\"prediction == 1.0 AND target == 1\").count())\n",
    "fp = float(predicted.filter(\"prediction == 1.0 AND target == 0\").count())\n",
    "tn = float(predicted.filter(\"prediction == 0.0 AND target == 0\").count())\n",
    "fn = float(predicted.filter(\"prediction == 0.0 AND target == 1\").count())\n",
    "pr = tp / (tp + fp)\n",
    "re = tp / (tp + fn)\n",
    "metrics = spark.createDataFrame([\n",
    " (\"TP\", tp),\n",
    " (\"FP\", fp),\n",
    " (\"TN\", tn),\n",
    " (\"FN\", fn),\n",
    " (\"Precision\", pr),\n",
    " (\"Recall\", re),\n",
    " (\"F1\", 2*pr*re/(re+pr))],[\"metric\", \"value\"])\n",
    "metrics.show()"
   ]
  },
  {
   "cell_type": "code",
   "execution_count": 49,
   "metadata": {},
   "outputs": [
    {
     "data": {
      "image/png": "[encoded data removed]",
      "text/plain": [
       "<matplotlib.figure.Figure at 0x7f8de1e5a710>"
      ]
     },
     "metadata": {},
     "output_type": "display_data"
    }
   ],
   "source": [
    "feat_importance = pd.DataFrame(list(zip(features,model_rf.featureImportances)), \n",
    "                               columns= [\"Feature\",\"Importance\"])\n",
    "\n",
    "plt.figure(figsize = (20,10))\n",
    "sns.set(font_scale = 2)\n",
    "plt.title(\"Feature Importances\")\n",
    "sns.barplot(x=\"Feature\", y=\"Importance\", data=feat_importance.sort_values(by=\"Importance\", ascending=False).head(10), color=\"blue\")\n",
    "plt.xticks(rotation=45);"
   ]
  },
  {
   "cell_type": "markdown",
   "metadata": {},
   "source": [
    "# Logistic Regression"
   ]
  },
  {
   "cell_type": "code",
   "execution_count": 114,
   "metadata": {},
   "outputs": [],
   "source": [
    "lr = LogisticRegression(labelCol='target')\n",
    "\n"
   ]
  },
  {
   "cell_type": "code",
   "execution_count": 116,
   "metadata": {},
   "outputs": [
    {
     "name": "stderr",
     "output_type": "stream",
     "text": [
      "Exception ignored in: <object repr() failed>\n",
      "Traceback (most recent call last):\n",
      "  File \"/opt/spark-2.4.3-bin-hadoop2.7/python/pyspark/ml/wrapper.py\", line 40, in __del__\n",
      "    if SparkContext._active_spark_context and self._java_obj is not None:\n",
      "AttributeError: 'LogisticRegression' object has no attribute '_java_obj'\n"
     ]
    },
    {
     "name": "stdout",
     "output_type": "stream",
     "text": [
      "total time to fit: 324.1105167865753\n"
     ]
    }
   ],
   "source": [
    "start = time.time()\n",
    "lr_model = lr.fit(train)\n",
    "end = time.time()\n",
    "total = end -start\n",
    "\n",
    "print(f\"total time to fit: {total}\")"
   ]
  },
  {
   "cell_type": "code",
   "execution_count": 117,
   "metadata": {},
   "outputs": [
    {
     "name": "stdout",
     "output_type": "stream",
     "text": [
      "+--------------------+----------+------+\n",
      "|            features|prediction|target|\n",
      "+--------------------+----------+------+\n",
      "|[0.0,0.0,0.0125,0...|       1.0|     1|\n",
      "|[0.0,0.0,0.0125,0...|       0.0|     1|\n",
      "+--------------------+----------+------+\n",
      "only showing top 2 rows\n",
      "\n"
     ]
    }
   ],
   "source": [
    "prediction = lr_model.transform(test)\n",
    "predicted = prediction.select(\"features\", \"prediction\", \"target\")\n",
    "\n",
    "predicted.show(2)"
   ]
  },
  {
   "cell_type": "code",
   "execution_count": 118,
   "metadata": {
    "scrolled": false
   },
   "outputs": [
    {
     "name": "stdout",
     "output_type": "stream",
     "text": [
      "+---------+------------------+\n",
      "|   metric|             value|\n",
      "+---------+------------------+\n",
      "|       TP|           13394.0|\n",
      "|       FP|             665.0|\n",
      "|       TN|           12652.0|\n",
      "|       FN|             136.0|\n",
      "|Precision|0.9526993385020271|\n",
      "|   Recall|0.9899482631189949|\n",
      "|       F1|0.9709666896226757|\n",
      "+---------+------------------+\n",
      "\n"
     ]
    }
   ],
   "source": [
    "tp = float(predicted.filter(\"prediction == 1.0 AND target == 1\").count())\n",
    "fp = float(predicted.filter(\"prediction == 1.0 AND target == 0\").count())\n",
    "tn = float(predicted.filter(\"prediction == 0.0 AND target == 0\").count())\n",
    "fn = float(predicted.filter(\"prediction == 0.0 AND target == 1\").count())\n",
    "pr = tp / (tp + fp)\n",
    "re = tp / (tp + fn)\n",
    "metrics = spark.createDataFrame([\n",
    " (\"TP\", tp),\n",
    " (\"FP\", fp),\n",
    " (\"TN\", tn),\n",
    " (\"FN\", fn),\n",
    " (\"Precision\", pr),\n",
    " (\"Recall\", re),\n",
    " (\"F1\", 2*pr*re/(re+pr))],[\"metric\", \"value\"])\n",
    "metrics.show()"
   ]
  },
  {
   "cell_type": "markdown",
   "metadata": {},
   "source": [
    "# Gbt Classifier"
   ]
  },
  {
   "cell_type": "code",
   "execution_count": 119,
   "metadata": {},
   "outputs": [],
   "source": [
    "gbt = GBTClassifier(labelCol='target',seed=42)"
   ]
  },
  {
   "cell_type": "code",
   "execution_count": 120,
   "metadata": {},
   "outputs": [],
   "source": [
    "\n",
    "start = time.time()\n",
    "gbt_model = gbt.fit(train)\n",
    "end = time.time()\n",
    "total = end -start"
   ]
  },
  {
   "cell_type": "code",
   "execution_count": 121,
   "metadata": {},
   "outputs": [
    {
     "name": "stdout",
     "output_type": "stream",
     "text": [
      "total time to fit: 455.3363652229309\n"
     ]
    }
   ],
   "source": [
    "print(f\"total time to fit: {total}\")"
   ]
  },
  {
   "cell_type": "code",
   "execution_count": 123,
   "metadata": {},
   "outputs": [
    {
     "name": "stdout",
     "output_type": "stream",
     "text": [
      "+--------------------+----------+------+\n",
      "|            features|prediction|target|\n",
      "+--------------------+----------+------+\n",
      "|[0.0,0.0,0.0125,0...|       1.0|     1|\n",
      "|[0.0,0.0,0.0125,0...|       1.0|     1|\n",
      "+--------------------+----------+------+\n",
      "only showing top 2 rows\n",
      "\n"
     ]
    }
   ],
   "source": [
    "prediction = gbt_model.transform(test)\n",
    "predicted = prediction.select(\"features\", \"prediction\", \"target\")\n",
    "\n",
    "predicted.show(2)"
   ]
  },
  {
   "cell_type": "code",
   "execution_count": 124,
   "metadata": {},
   "outputs": [
    {
     "name": "stdout",
     "output_type": "stream",
     "text": [
      "+---------+------------------+\n",
      "|   metric|             value|\n",
      "+---------+------------------+\n",
      "|       TP|           13527.0|\n",
      "|       FP|             258.0|\n",
      "|       TN|           13059.0|\n",
      "|       FN|               3.0|\n",
      "|Precision|0.9812840043525571|\n",
      "|   Recall|0.9997782705099778|\n",
      "|       F1|0.9904448105436573|\n",
      "+---------+------------------+\n",
      "\n"
     ]
    }
   ],
   "source": [
    "tp = float(predicted.filter(\"prediction == 1.0 AND target == 1\").count())\n",
    "fp = float(predicted.filter(\"prediction == 1.0 AND target == 0\").count())\n",
    "tn = float(predicted.filter(\"prediction == 0.0 AND target == 0\").count())\n",
    "fn = float(predicted.filter(\"prediction == 0.0 AND target == 1\").count())\n",
    "pr = tp / (tp + fp)\n",
    "re = tp / (tp + fn)\n",
    "metrics = spark.createDataFrame([\n",
    " (\"TP\", tp),\n",
    " (\"FP\", fp),\n",
    " (\"TN\", tn),\n",
    " (\"FN\", fn),\n",
    " (\"Precision\", pr),\n",
    " (\"Recall\", re),\n",
    " (\"F1\", 2*pr*re/(re+pr))],[\"metric\", \"value\"])\n",
    "metrics.show()"
   ]
  },
  {
   "cell_type": "markdown",
   "metadata": {},
   "source": [
    " Random Forest was the model with the best perfomance and without overfittung"
   ]
  },
  {
   "cell_type": "markdown",
   "metadata": {},
   "source": [
    "# Model Selection - Cross Validation Random Forest"
   ]
  },
  {
   "cell_type": "code",
   "execution_count": 55,
   "metadata": {},
   "outputs": [
    {
     "name": "stdout",
     "output_type": "stream",
     "text": [
      "total time to fit: 1232.2062797546387\n"
     ]
    }
   ],
   "source": [
    "\n",
    "paramGrid = (ParamGridBuilder()\n",
    "             .addGrid(rf.numTrees, [20, 30])\n",
    "             .addGrid(rf.maxDepth, [5, 8])\n",
    "             .build())\n",
    "\n",
    "\n",
    "evaluator = MulticlassClassificationEvaluator(predictionCol='prediction', metricName='f1')\n",
    "evaluator.setLabelCol('target')\n",
    "cv = CrossValidator(estimator=rf, estimatorParamMaps=paramGrid, evaluator=evaluator, numFolds=4)\n",
    "with active_session():\n",
    "    start = time.time()\n",
    "    cvModel = cv.fit(train)\n",
    "    end = time.time()\n",
    "    total = end -start\n",
    "    print(f\"total time to fit: {total}\")\n",
    "    predictions = cvModel.transform(test)\n"
   ]
  },
  {
   "cell_type": "code",
   "execution_count": 56,
   "metadata": {},
   "outputs": [
    {
     "data": {
      "text/plain": [
       "RandomForestClassificationModel (uid=RandomForestClassifier_54dbcb6f7fea) with 30 trees"
      ]
     },
     "execution_count": 56,
     "metadata": {},
     "output_type": "execute_result"
    }
   ],
   "source": [
    "cvModel.bestModel"
   ]
  },
  {
   "cell_type": "code",
   "execution_count": 57,
   "metadata": {},
   "outputs": [
    {
     "data": {
      "text/plain": [
       "DataFrame[features: vector, target: bigint, rawPrediction: vector, probability: vector, prediction: double]"
      ]
     },
     "execution_count": 57,
     "metadata": {},
     "output_type": "execute_result"
    }
   ],
   "source": [
    "predictions"
   ]
  },
  {
   "cell_type": "code",
   "execution_count": 58,
   "metadata": {},
   "outputs": [],
   "source": [
    "#get the best model\n",
    "best_model = cvModel.bestModel\n"
   ]
  },
  {
   "cell_type": "code",
   "execution_count": 59,
   "metadata": {},
   "outputs": [],
   "source": [
    "results = best_model.transform(test)\n"
   ]
  },
  {
   "cell_type": "code",
   "execution_count": 60,
   "metadata": {
    "scrolled": true
   },
   "outputs": [
    {
     "name": "stdout",
     "output_type": "stream",
     "text": [
      "Best parameters for Random Fores CV : max depth:8, num Trees:30\n"
     ]
    }
   ],
   "source": [
    "# what are the best parameters\n",
    "print('Best parameters for Random Fores CV : max depth:{}, num Trees:{}'.\\\n",
    "          format(best_model.getOrDefault('maxDepth'), best_model.getNumTrees))"
   ]
  },
  {
   "cell_type": "code",
   "execution_count": 61,
   "metadata": {},
   "outputs": [
    {
     "data": {
      "image/png": "[encoded data removed]",
      "text/plain": [
       "<matplotlib.figure.Figure at 0x7f8de0581d68>"
      ]
     },
     "metadata": {},
     "output_type": "display_data"
    }
   ],
   "source": [
    "feat_importance = pd.DataFrame(list(zip(features,cvModel.bestModel.featureImportances)), \n",
    "                               columns= [\"Feature\",\"Importance\"])\n",
    "\n",
    "plt.figure(figsize = (20,10))\n",
    "sns.set(font_scale = 2)\n",
    "\n",
    "plt.title(\"Feature Importances\",fontsize=30)\n",
    "sns.barplot(x=\"Feature\", y=\"Importance\", data=feat_importance.sort_values(by=\"Importance\", ascending=False).head(10), color=\"blue\")\n",
    "plt.xticks(rotation=45,fontsize=16);\n",
    "plt.yticks(fontsize=16);"
   ]
  },
  {
   "cell_type": "markdown",
   "metadata": {},
   "source": [
    "# Final Steps\n",
    "Clean up your code, adding comments and renaming variables to make the code easier to read and maintain. Refer to the Spark Project Overview page and Data Scientist Capstone Project Rubric to make sure you are including all components of the capstone project and meet all expectations. Remember, this includes thorough documentation in a README file in a Github repository, as well as a web app or blog post."
   ]
  },
  {
   "cell_type": "code",
   "execution_count": 66,
   "metadata": {},
   "outputs": [],
   "source": [
    "metrics = [\"weightedRecall\",\"weightedPrecision\", \"f1\" ]\n",
    "metrics_test = []\n",
    "    \n",
    "for metric in metrics: \n",
    "    metric_final = evaluator.evaluate(predictions.select('target','prediction'),{evaluator.metricName: metric})\n",
    "    metrics_test.append(metric_final)"
   ]
  },
  {
   "cell_type": "code",
   "execution_count": 67,
   "metadata": {},
   "outputs": [
    {
     "data": {
      "text/plain": [
       "[0.9311654933512123, 0.9394374512317534, 0.9307995939731124]"
      ]
     },
     "execution_count": 67,
     "metadata": {},
     "output_type": "execute_result"
    }
   ],
   "source": [
    "metrics_test"
   ]
  },
  {
   "cell_type": "code",
   "execution_count": 64,
   "metadata": {},
   "outputs": [
    {
     "data": {
      "text/plain": [
       "DataFrame[features: vector, target: bigint, rawPrediction: vector, probability: vector, prediction: double]"
      ]
     },
     "execution_count": 64,
     "metadata": {},
     "output_type": "execute_result"
    }
   ],
   "source": [
    "results"
   ]
  },
  {
   "cell_type": "code",
   "execution_count": 65,
   "metadata": {},
   "outputs": [
    {
     "data": {
      "text/plain": [
       "MulticlassClassificationEvaluator_dfabb040de33"
      ]
     },
     "execution_count": 65,
     "metadata": {},
     "output_type": "execute_result"
    }
   ],
   "source": [
    "evaluator"
   ]
  },
  {
   "cell_type": "code",
   "execution_count": 54,
   "metadata": {},
   "outputs": [
    {
     "data": {
      "text/plain": [
       "0.9625393700667393"
      ]
     },
     "execution_count": 54,
     "metadata": {},
     "output_type": "execute_result"
    }
   ],
   "source": [
    "metric_final"
   ]
  }
 ],
 "metadata": {
  "kernelspec": {
   "display_name": "Python 3",
   "language": "python",
   "name": "python3"
  },
  "language_info": {
   "codemirror_mode": {
    "name": "ipython",
    "version": 3
   },
   "file_extension": ".py",
   "mimetype": "text/x-python",
   "name": "python",
   "nbconvert_exporter": "python",
   "pygments_lexer": "ipython3",
   "version": "3.6.3"
  }
 },
 "nbformat": 4,
 "nbformat_minor": 2
}
