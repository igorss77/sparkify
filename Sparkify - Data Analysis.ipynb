{
 "cells": [
  {
   "cell_type": "markdown",
   "metadata": {},
   "source": [
    "# Sparkify Project Workspace\n",
    "This workspace contains a tiny subset (128MB) of the full dataset available (12GB). Feel free to use this workspace to build your project, or to explore a smaller subset with Spark before deploying your cluster on the cloud. Instructions for setting up your Spark cluster is included in the last lesson of the Extracurricular Spark Course content.\n",
    "\n",
    "You can follow the steps below to guide your data analysis and model building portion of this project."
   ]
  },
  {
   "cell_type": "code",
   "execution_count": 1,
   "metadata": {},
   "outputs": [
    {
     "name": "stdout",
     "output_type": "stream",
     "text": [
      "Collecting httpagentparser\n",
      "  Downloading https://files.pythonhosted.org/packages/3e/89/3e80644a280c1b416faf9b3c56a016702fa3abae7502e348dfaf67217f67/httpagentparser-1.9.1.tar.gz\n",
      "Building wheels for collected packages: httpagentparser\n",
      "  Running setup.py bdist_wheel for httpagentparser ... \u001b[?25ldone\n",
      "\u001b[?25h  Stored in directory: /root/.cache/pip/wheels/28/30/df/38acb521e72600043491ceadd08d98f383b5bf819cebd2fb03\n",
      "Successfully built httpagentparser\n",
      "Installing collected packages: httpagentparser\n",
      "Successfully installed httpagentparser-1.9.1\n"
     ]
    }
   ],
   "source": [
    "!pip install httpagentparser\n"
   ]
  },
  {
   "cell_type": "code",
   "execution_count": 2,
   "metadata": {},
   "outputs": [],
   "source": [
    "# import libraries\n",
    "from pyspark.sql import SparkSession\n",
    "from pyspark.sql.functions import udf\n",
    "from pyspark.sql.types import StringType,TimestampType,IntegerType\n",
    "from pyspark.sql.functions import sum as Fsum\n",
    "import pyspark.sql.functions as F \n",
    "#from pyspark.sql.functions import isnan, count, when, col, desc, udf, col, sort_array, asc, avg\n",
    "from pyspark.sql import Window\n",
    "import datetime\n",
    "from pyspark.ml.feature import StringIndexer\n",
    "import httpagentparser\n",
    "import numpy as np\n",
    "import seaborn as sns\n",
    "import pandas as pd\n",
    "%matplotlib inline\n",
    "import matplotlib.pyplot as plt"
   ]
  },
  {
   "cell_type": "code",
   "execution_count": 3,
   "metadata": {},
   "outputs": [],
   "source": [
    "# create a Spark session\n",
    "spark = SparkSession \\\n",
    "    .builder \\\n",
    "    .appName(\"Sparkify\") \\\n",
    "    .getOrCreate()"
   ]
  },
  {
   "cell_type": "markdown",
   "metadata": {},
   "source": [
    "# Load and Clean Dataset\n",
    "In this workspace, the mini-dataset file is `mini_sparkify_event_data.json`. Load and clean the dataset, checking for invalid or missing data - for example, records without userids or sessionids. "
   ]
  },
  {
   "cell_type": "code",
   "execution_count": 4,
   "metadata": {},
   "outputs": [],
   "source": [
    "path = \"./mini_sparkify_event_data.json\"\n",
    "data_log = spark.read.json(path)"
   ]
  },
  {
   "cell_type": "code",
   "execution_count": 5,
   "metadata": {},
   "outputs": [],
   "source": [
    "data_log = data_log.dropDuplicates()"
   ]
  },
  {
   "cell_type": "code",
   "execution_count": 6,
   "metadata": {},
   "outputs": [
    {
     "data": {
      "text/plain": [
       "[Row(artist='The Futureheads', auth='Logged In', firstName='Ainsley', gender='F', itemInSession=80, lastName='Farley', length=120.81587, level='free', location='McAllen-Edinburg-Mission, TX', method='PUT', page='NextSong', registration=1538304455000, sessionId=187, song='Robot', status=200, ts=1538373133000, userAgent='\"Mozilla/5.0 (Windows NT 6.1; WOW64) AppleWebKit/537.36 (KHTML, like Gecko) Chrome/37.0.2062.94 Safari/537.36\"', userId='78')]"
      ]
     },
     "execution_count": 6,
     "metadata": {},
     "output_type": "execute_result"
    }
   ],
   "source": [
    "data_log.take(1)"
   ]
  },
  {
   "cell_type": "code",
   "execution_count": 7,
   "metadata": {},
   "outputs": [
    {
     "name": "stdout",
     "output_type": "stream",
     "text": [
      "root\n",
      " |-- artist: string (nullable = true)\n",
      " |-- auth: string (nullable = true)\n",
      " |-- firstName: string (nullable = true)\n",
      " |-- gender: string (nullable = true)\n",
      " |-- itemInSession: long (nullable = true)\n",
      " |-- lastName: string (nullable = true)\n",
      " |-- length: double (nullable = true)\n",
      " |-- level: string (nullable = true)\n",
      " |-- location: string (nullable = true)\n",
      " |-- method: string (nullable = true)\n",
      " |-- page: string (nullable = true)\n",
      " |-- registration: long (nullable = true)\n",
      " |-- sessionId: long (nullable = true)\n",
      " |-- song: string (nullable = true)\n",
      " |-- status: long (nullable = true)\n",
      " |-- ts: long (nullable = true)\n",
      " |-- userAgent: string (nullable = true)\n",
      " |-- userId: string (nullable = true)\n",
      "\n"
     ]
    }
   ],
   "source": [
    "# print the schema\n",
    "data_log.printSchema()"
   ]
  },
  {
   "cell_type": "code",
   "execution_count": 8,
   "metadata": {},
   "outputs": [],
   "source": [
    "# filter for users with blank user id\n",
    "blank_pages = data_log.filter(data_log.userId == '') \\\n",
    "    .select(F.col('page') \\\n",
    "    .alias('blank_pages')) \\\n",
    "    .dropDuplicates()\n",
    "\n",
    "# get a list of possible pages that could be visited\n",
    "all_pages = data_log.select('page').dropDuplicates()"
   ]
  },
  {
   "cell_type": "code",
   "execution_count": 9,
   "metadata": {},
   "outputs": [
    {
     "name": "stdout",
     "output_type": "stream",
     "text": [
      "Add to Playlist\n",
      "Submit Upgrade\n",
      "Cancel\n",
      "Upgrade\n",
      "Logout\n",
      "Cancellation Confirmation\n",
      "Submit Downgrade\n",
      "Add Friend\n",
      "Save Settings\n",
      "Roll Advert\n",
      "Settings\n",
      "Thumbs Down\n",
      "Thumbs Up\n",
      "NextSong\n",
      "Downgrade\n"
     ]
    }
   ],
   "source": [
    "# values in all_pages that are not in blank_pages\n",
    "# these are the pages that the blank user did not go to\n",
    "for row in set(all_pages.collect()) - set(blank_pages.collect()):\n",
    "    print(row.page)"
   ]
  },
  {
   "cell_type": "code",
   "execution_count": 10,
   "metadata": {},
   "outputs": [
    {
     "name": "stdout",
     "output_type": "stream",
     "text": [
      "+--------------------+--------------------+---------+\n",
      "|                song|              Artist|Songcount|\n",
      "+--------------------+--------------------+---------+\n",
      "|      You're The One|       Dwight Yoakam|     1122|\n",
      "|                Undo|            BjÃÂ¶rk|     1026|\n",
      "|             Revelry|       Kings Of Leon|      854|\n",
      "|       Sehr kosmisch|            Harmonia|      728|\n",
      "|Horn Concerto No....|Barry Tuckwell/Ac...|      641|\n",
      "+--------------------+--------------------+---------+\n",
      "only showing top 5 rows\n",
      "\n"
     ]
    }
   ],
   "source": [
    "# count most played song\n",
    "data_log.filter(data_log.page == 'NextSong') \\\n",
    "    .select('song','Artist') \\\n",
    "    .groupBy('song','Artist') \\\n",
    "    .agg({'song':'count'}) \\\n",
    "    .withColumnRenamed('count(song)', 'Songcount') \\\n",
    "    .sort(F.desc('Songcount')) \\\n",
    "    .show(5)"
   ]
  },
  {
   "cell_type": "code",
   "execution_count": 11,
   "metadata": {},
   "outputs": [
    {
     "name": "stdout",
     "output_type": "stream",
     "text": [
      "+--------------------+-----------+\n",
      "|              Artist|Artistcount|\n",
      "+--------------------+-----------+\n",
      "|       Kings Of Leon|       1841|\n",
      "|            Coldplay|       1813|\n",
      "|Florence + The Ma...|       1236|\n",
      "|       Dwight Yoakam|       1135|\n",
      "|            BjÃÂ¶rk|       1133|\n",
      "+--------------------+-----------+\n",
      "only showing top 5 rows\n",
      "\n"
     ]
    }
   ],
   "source": [
    "# count most played artists\n",
    "data_log.filter(data_log.page == 'NextSong') \\\n",
    "    .select('Artist') \\\n",
    "    .groupBy('Artist') \\\n",
    "    .agg({'Artist':'count'}) \\\n",
    "    .withColumnRenamed('count(Artist)', 'Artistcount') \\\n",
    "    .sort(F.desc('Artistcount')) \\\n",
    "    .show(5)"
   ]
  },
  {
   "cell_type": "code",
   "execution_count": 12,
   "metadata": {},
   "outputs": [
    {
     "name": "stdout",
     "output_type": "stream",
     "text": [
      "+--------------------+-------------+\n",
      "|            location|locationcount|\n",
      "+--------------------+-------------+\n",
      "|Los Angeles-Long ...|        30131|\n",
      "|New York-Newark-J...|        23684|\n",
      "|Boston-Cambridge-...|        13873|\n",
      "|Houston-The Woodl...|         9499|\n",
      "|Charlotte-Concord...|         7780|\n",
      "+--------------------+-------------+\n",
      "only showing top 5 rows\n",
      "\n"
     ]
    }
   ],
   "source": [
    "# top location\n",
    "data_log.select('location') \\\n",
    "    .groupBy('location') \\\n",
    "    .agg({'location':'count'}) \\\n",
    "    .withColumnRenamed('count(location)', 'locationcount') \\\n",
    "    .sort(F.desc('locationcount')) \\\n",
    "    .show(5)"
   ]
  },
  {
   "cell_type": "markdown",
   "metadata": {},
   "source": [
    "This could be attributed to users that not signed up yet"
   ]
  },
  {
   "cell_type": "markdown",
   "metadata": {},
   "source": [
    "# Exploratory Data Analysis\n",
    "When you're working with the full dataset, perform EDA by loading a small subset of the data and doing basic manipulations within Spark. In this workspace, you are already provided a small subset of data you can explore.\n",
    "\n",
    "### Define Churn\n",
    "\n",
    "Once you've done some preliminary analysis, create a column `Churn` to use as the label for your model. I suggest using the `Cancellation Confirmation` events to define your churn, which happen for both paid and free users. As a bonus task, you can also look into the `Downgrade` events.\n",
    "\n",
    "### Explore Data\n",
    "Once you've defined churn, perform some exploratory data analysis to observe the behavior for users who stayed vs users who churned. You can start by exploring aggregates on these two groups of users, observing how much of a specific action they experienced per a certain time unit or number of songs played."
   ]
  },
  {
   "cell_type": "code",
   "execution_count": 14,
   "metadata": {},
   "outputs": [],
   "source": [
    "# get timestamp\n",
    "get_hour = udf(lambda x: datetime.datetime.fromtimestamp(x / 1000.0). hour)"
   ]
  },
  {
   "cell_type": "code",
   "execution_count": 15,
   "metadata": {},
   "outputs": [],
   "source": [
    "data_log = data_log.withColumn(\"hour\", get_hour(data_log.ts))"
   ]
  },
  {
   "cell_type": "code",
   "execution_count": 16,
   "metadata": {},
   "outputs": [
    {
     "data": {
      "text/plain": [
       "Row(artist='The Futureheads', auth='Logged In', firstName='Ainsley', gender='F', itemInSession=80, lastName='Farley', length=120.81587, level='free', location='McAllen-Edinburg-Mission, TX', method='PUT', page='NextSong', registration=1538304455000, sessionId=187, song='Robot', status=200, ts=1538373133000, userAgent='\"Mozilla/5.0 (Windows NT 6.1; WOW64) AppleWebKit/537.36 (KHTML, like Gecko) Chrome/37.0.2062.94 Safari/537.36\"', userId='78', hour='5')"
      ]
     },
     "execution_count": 16,
     "metadata": {},
     "output_type": "execute_result"
    }
   ],
   "source": [
    "data_log.head()"
   ]
  },
  {
   "cell_type": "code",
   "execution_count": 17,
   "metadata": {},
   "outputs": [],
   "source": [
    "songs_in_hour = data_log.filter(data_log.page == \"NextSong\").groupby(data_log.hour).count().orderBy(data_log.hour.cast(\"float\"))"
   ]
  },
  {
   "cell_type": "code",
   "execution_count": 18,
   "metadata": {},
   "outputs": [],
   "source": [
    "songs_in_hour_pd = songs_in_hour.toPandas()\n",
    "songs_in_hour_pd.hour = pd.to_numeric(songs_in_hour_pd.hour)"
   ]
  },
  {
   "cell_type": "code",
   "execution_count": 19,
   "metadata": {
    "scrolled": true
   },
   "outputs": [
    {
     "data": {
      "image/png": "[encoded data removed]",
      "text/plain": [
       "<matplotlib.figure.Figure at 0x7feefb88cc50>"
      ]
     },
     "metadata": {
      "needs_background": "light"
     },
     "output_type": "display_data"
    }
   ],
   "source": [
    "# what are the time that songs are played\n",
    "plt.scatter(songs_in_hour_pd[\"hour\"], songs_in_hour_pd[\"count\"])\n",
    "plt.xlim(-1, 24);\n",
    "plt.ylim(0, 1.2 * max(songs_in_hour_pd[\"count\"]))\n",
    "plt.xlabel(\"Hour\")\n",
    "plt.ylabel(\"Songs played\");"
   ]
  },
  {
   "cell_type": "code",
   "execution_count": 20,
   "metadata": {},
   "outputs": [
    {
     "name": "stdout",
     "output_type": "stream",
     "text": [
      "+-------------+----+---------+\n",
      "|       Artist|hour|Hourcount|\n",
      "+-------------+----+---------+\n",
      "|Kings Of Leon|  15|      109|\n",
      "+-------------+----+---------+\n",
      "only showing top 1 row\n",
      "\n"
     ]
    }
   ],
   "source": [
    "# what time people listened more the top 1 artist?\n",
    "data_log.filter(data_log.page == 'NextSong') \\\n",
    "    .select('Artist','hour') \\\n",
    "    .groupBy('Artist','hour') \\\n",
    "    .agg({'Hour':'count'}) \\\n",
    "    .withColumnRenamed('count(Hour)', 'Hourcount') \\\n",
    "    .sort(F.desc('Hourcount')) \\\n",
    "    .show(1)"
   ]
  },
  {
   "cell_type": "code",
   "execution_count": 21,
   "metadata": {},
   "outputs": [],
   "source": [
    "# remove null values\n",
    "data_log_valid = data_log.dropna(how = \"any\", subset = [\"userId\", \"sessionId\"])"
   ]
  },
  {
   "cell_type": "code",
   "execution_count": 22,
   "metadata": {},
   "outputs": [
    {
     "name": "stdout",
     "output_type": "stream",
     "text": [
      "+------+\n",
      "|userId|\n",
      "+------+\n",
      "|      |\n",
      "|    10|\n",
      "|   100|\n",
      "|100001|\n",
      "|100002|\n",
      "|100003|\n",
      "|100004|\n",
      "|100005|\n",
      "|100006|\n",
      "|100007|\n",
      "|100008|\n",
      "|100009|\n",
      "|100010|\n",
      "|100011|\n",
      "|100012|\n",
      "|100013|\n",
      "|100014|\n",
      "|100015|\n",
      "|100016|\n",
      "|100017|\n",
      "+------+\n",
      "only showing top 20 rows\n",
      "\n"
     ]
    }
   ],
   "source": [
    "data_log.select(\"userId\").dropDuplicates().sort(\"userId\").show()"
   ]
  },
  {
   "cell_type": "code",
   "execution_count": 23,
   "metadata": {},
   "outputs": [],
   "source": [
    "# remove empty string for userid\n",
    "data_log_valid = data_log_valid.filter(data_log_valid[\"userId\"] != \"\")"
   ]
  },
  {
   "cell_type": "code",
   "execution_count": 24,
   "metadata": {},
   "outputs": [
    {
     "name": "stdout",
     "output_type": "stream",
     "text": [
      "+------+----------------------+\n",
      "|gender|count(DISTINCT userId)|\n",
      "+------+----------------------+\n",
      "|     F|                   104|\n",
      "|     M|                   121|\n",
      "+------+----------------------+\n",
      "\n"
     ]
    }
   ],
   "source": [
    "# count gender\n",
    "data_log_valid.select('gender','userId') \\\n",
    "    .groupBy('gender') \\\n",
    "    .agg(F.countDistinct(\"userId\")) \\\n",
    "    .withColumnRenamed('count(userId)', 'userIdcount')\\\n",
    "    .show() "
   ]
  },
  {
   "cell_type": "code",
   "execution_count": 25,
   "metadata": {},
   "outputs": [
    {
     "name": "stdout",
     "output_type": "stream",
     "text": [
      "+-----+----------------------+\n",
      "|level|count(DISTINCT userId)|\n",
      "+-----+----------------------+\n",
      "| free|                   195|\n",
      "| paid|                   165|\n",
      "+-----+----------------------+\n",
      "\n"
     ]
    }
   ],
   "source": [
    "# count paid and free user\n",
    "data_log_valid.select('level','userId') \\\n",
    "    .groupBy('level') \\\n",
    "    .agg(F.countDistinct(\"userId\")) \\\n",
    "    .withColumnRenamed('count(userId)', 'userIdcount')\\\n",
    "    .show() "
   ]
  },
  {
   "cell_type": "code",
   "execution_count": 26,
   "metadata": {},
   "outputs": [
    {
     "data": {
      "text/plain": [
       "225"
      ]
     },
     "execution_count": 26,
     "metadata": {},
     "output_type": "execute_result"
    }
   ],
   "source": [
    "# how many users?\n",
    "data_log_valid.select('userId').distinct().count()"
   ]
  },
  {
   "cell_type": "code",
   "execution_count": 27,
   "metadata": {},
   "outputs": [
    {
     "data": {
      "text/plain": [
       "114"
      ]
     },
     "execution_count": 27,
     "metadata": {},
     "output_type": "execute_result"
    }
   ],
   "source": [
    "data_log_valid.select('location').distinct().count()"
   ]
  },
  {
   "cell_type": "code",
   "execution_count": 28,
   "metadata": {},
   "outputs": [],
   "source": [
    "# define churn by cancellation confirmation"
   ]
  },
  {
   "cell_type": "code",
   "execution_count": 29,
   "metadata": {},
   "outputs": [
    {
     "name": "stdout",
     "output_type": "stream",
     "text": [
      "+------+---------+---------+------+-------------+--------+------+-----+--------------------+------+----------------+-------------+---------+----+------+-------------+--------------------+------+----+\n",
      "|artist|     auth|firstName|gender|itemInSession|lastName|length|level|            location|method|            page| registration|sessionId|song|status|           ts|           userAgent|userId|hour|\n",
      "+------+---------+---------+------+-------------+--------+------+-----+--------------------+------+----------------+-------------+---------+----+------+-------------+--------------------+------+----+\n",
      "|  null|Logged In|   Parker|     M|          636|Williams|  null| paid|San Francisco-Oak...|   PUT|Submit Downgrade|1537188538000|      529|null|   307|1539244188000|\"Mozilla/5.0 (iPh...|    61|   7|\n",
      "|  null|Logged In| Benjamin|     M|           89|    Mata|  null| paid|        Sterling, IL|   PUT|Submit Downgrade|1538313468000|      251|null|   307|1540873341000|\"Mozilla/5.0 (Win...|200009|   4|\n",
      "|  null|Logged In|    Faigy|     F|          101|    Howe|  null| paid|Phoenix-Mesa-Scot...|   PUT|Submit Downgrade|1538211832000|      826|null|   307|1539675894000|Mozilla/5.0 (Maci...|    95|   7|\n",
      "|  null|Logged In|    Anika|     F|           57| Osborne|  null| paid|Philadelphia-Camd...|   PUT|Submit Downgrade|1533192032000|     1695|null|   307|1541654303000|\"Mozilla/5.0 (iPh...|    13|   5|\n",
      "|  null|Logged In|     Troy|     M|           51|  Mathis|  null| paid|San Francisco-Oak...|   PUT|Submit Downgrade|1537376437000|      126|null|   307|1540126703000|\"Mozilla/5.0 (Win...|100009|  12|\n",
      "|  null|Logged In|     Lily|     F|            7| Barnett|  null| paid|Washington-Arling...|   PUT|Submit Downgrade|1537053412000|     1704|null|   307|1541619996000|\"Mozilla/5.0 (Mac...|    35|  19|\n",
      "|  null|Logged In|  Brayden|     M|          113|  Thomas|  null| paid|Los Angeles-Long ...|   PUT|Submit Downgrade|1534133898000|      734|null|   307|1539335599000|\"Mozilla/5.0 (Mac...|    85|   9|\n",
      "|  null|Logged In| Christan|     M|          121| Hopkins|  null| paid|            Napa, CA|   PUT|Submit Downgrade|1534318843000|     1744|null|   307|1542091077000|\"Mozilla/5.0 (Win...|    49|   6|\n",
      "|  null|Logged In|     Kael|     M|           47|   Baker|  null| paid|Kingsport-Bristol...|   PUT|Submit Downgrade|1533102330000|      249|null|   307|1538393619000|\"Mozilla/5.0 (Mac...|   131|  11|\n",
      "|  null|Logged In|    Casey|     F|            2| Ramirez|  null| paid|    St. Louis, MO-IL|   PUT|Submit Downgrade|1534768517000|     1705|null|   307|1542044488000|Mozilla/5.0 (Wind...|   109|  17|\n",
      "|  null|Logged In|   Lucero|     F|          163|    Reed|  null| paid|Louisville/Jeffer...|   PUT|Submit Downgrade|1536642109000|     1643|null|   307|1541523845000|\"Mozilla/5.0 (Win...|   140|  17|\n",
      "|  null|Logged In|    Chloe|     F|          122|  Deleon|  null| paid|Boston-Cambridge-...|   PUT|Submit Downgrade|1530514394000|      459|null|   307|1543354844000|\"Mozilla/5.0 (Win...|300023|  21|\n",
      "|  null|Logged In|   Landon|     M|           32|  Walton|  null| paid|    St. Louis, MO-IL|   PUT|Submit Downgrade|1536854322000|      190|null|   307|1542989412000|\"Mozilla/5.0 (X11...|100016|  16|\n",
      "|  null|Logged In|    Anika|     F|          105| Osborne|  null| paid|Philadelphia-Camd...|   PUT|Submit Downgrade|1533192032000|     1695|null|   307|1541663041000|\"Mozilla/5.0 (iPh...|    13|   7|\n",
      "|  null|Logged In|   Daniel|     M|          176|   Marks|  null| paid|Chicago-Napervill...|   PUT|Submit Downgrade|1537381154000|       94|null|   307|1539975063000|\"Mozilla/5.0 (Mac...|100012|  18|\n",
      "|  null|Logged In|   Joshua|     M|           96|   White|  null| paid|San Antonio-New B...|   PUT|Submit Downgrade|1528780738000|       69|null|   307|1539027805000|\"Mozilla/5.0 (iPh...|300015|  19|\n",
      "|  null|Logged In|    Piper|     F|          210| Nielsen|  null| paid|New York-Newark-J...|   PUT|Submit Downgrade|1537699856000|      865|null|   307|1539647785000|\"Mozilla/5.0 (Mac...|   103|  23|\n",
      "|  null|Logged In|  Kaylenn|     F|          354| Jenkins|  null| paid|           Price, UT|   PUT|Submit Downgrade|1535903878000|      479|null|   307|1538835479000|\"Mozilla/5.0 (Mac...|   141|  14|\n",
      "|  null|Logged In|   Autumn|     F|           53|  Martin|  null| paid|     Gainesville, FL|   PUT|Submit Downgrade|1537749786000|      688|null|   307|1539608338000|\"Mozilla/5.0 (Win...|    77|  12|\n",
      "|  null|Logged In|     Zoey|     F|           53|   Floyd|  null| paid|Chicago-Napervill...|   PUT|Submit Downgrade|1530333492000|       28|null|   307|1538744281000|\"Mozilla/5.0 (Win...|200003|  12|\n",
      "+------+---------+---------+------+-------------+--------+------+-----+--------------------+------+----------------+-------------+---------+----+------+-------------+--------------------+------+----+\n",
      "only showing top 20 rows\n",
      "\n"
     ]
    }
   ],
   "source": [
    "data_log_valid.filter(\"page = 'Submit Downgrade'\").show()"
   ]
  },
  {
   "cell_type": "code",
   "execution_count": 30,
   "metadata": {},
   "outputs": [],
   "source": [
    "# downgraded event\n",
    "downgraded_event = udf(lambda x: 1 if x == 'Submit Downgrade' else 0, IntegerType())"
   ]
  },
  {
   "cell_type": "code",
   "execution_count": 31,
   "metadata": {},
   "outputs": [],
   "source": [
    "data_log_valid = data_log_valid.withColumn(\"downgraded\", downgraded_event(\"page\"))"
   ]
  },
  {
   "cell_type": "code",
   "execution_count": 32,
   "metadata": {},
   "outputs": [],
   "source": [
    "# using unboundedPreceding to identify the movement from non paid user to paid user\n",
    "windowval = Window.partitionBy(\"userId\").orderBy(F.desc(\"ts\")).rangeBetween(Window.unboundedPreceding, 0)"
   ]
  },
  {
   "cell_type": "code",
   "execution_count": 33,
   "metadata": {},
   "outputs": [],
   "source": [
    "data_log_valid = data_log_valid.withColumn(\"phase\", Fsum(\"downgraded\").over(windowval))"
   ]
  },
  {
   "cell_type": "code",
   "execution_count": 34,
   "metadata": {},
   "outputs": [
    {
     "data": {
      "text/plain": [
       "[Row(userId='30', firstname='Colin', ts=1538352117000, page='NextSong', level='paid', phase=1),\n",
       " Row(userId='30', firstname='Colin', ts=1538352394000, page='NextSong', level='paid', phase=1),\n",
       " Row(userId='30', firstname='Colin', ts=1538352676000, page='NextSong', level='paid', phase=1),\n",
       " Row(userId='30', firstname='Colin', ts=1538352899000, page='NextSong', level='paid', phase=1),\n",
       " Row(userId='30', firstname='Colin', ts=1538352905000, page='Add to Playlist', level='paid', phase=1),\n",
       " Row(userId='30', firstname='Colin', ts=1538353084000, page='NextSong', level='paid', phase=1),\n",
       " Row(userId='30', firstname='Colin', ts=1538353218000, page='NextSong', level='paid', phase=1),\n",
       " Row(userId='30', firstname='Colin', ts=1538353441000, page='NextSong', level='paid', phase=1),\n",
       " Row(userId='30', firstname='Colin', ts=1538353687000, page='NextSong', level='paid', phase=1),\n",
       " Row(userId='30', firstname='Colin', ts=1538353909000, page='NextSong', level='paid', phase=1),\n",
       " Row(userId='30', firstname='Colin', ts=1538354132000, page='NextSong', level='paid', phase=1),\n",
       " Row(userId='30', firstname='Colin', ts=1538354365000, page='NextSong', level='paid', phase=1),\n",
       " Row(userId='30', firstname='Colin', ts=1538354584000, page='NextSong', level='paid', phase=1),\n",
       " Row(userId='30', firstname='Colin', ts=1538354806000, page='NextSong', level='paid', phase=1),\n",
       " Row(userId='30', firstname='Colin', ts=1538354945000, page='NextSong', level='paid', phase=1),\n",
       " Row(userId='30', firstname='Colin', ts=1538355256000, page='NextSong', level='paid', phase=1),\n",
       " Row(userId='30', firstname='Colin', ts=1538355473000, page='NextSong', level='paid', phase=1),\n",
       " Row(userId='30', firstname='Colin', ts=1538355711000, page='NextSong', level='paid', phase=1),\n",
       " Row(userId='30', firstname='Colin', ts=1538355915000, page='NextSong', level='paid', phase=1),\n",
       " Row(userId='30', firstname='Colin', ts=1538356263000, page='NextSong', level='paid', phase=1),\n",
       " Row(userId='30', firstname='Colin', ts=1538356523000, page='NextSong', level='paid', phase=1),\n",
       " Row(userId='30', firstname='Colin', ts=1538356524000, page='Thumbs Down', level='paid', phase=1),\n",
       " Row(userId='30', firstname='Colin', ts=1538356707000, page='NextSong', level='paid', phase=1),\n",
       " Row(userId='30', firstname='Colin', ts=1538356903000, page='NextSong', level='paid', phase=1),\n",
       " Row(userId='30', firstname='Colin', ts=1538357223000, page='NextSong', level='paid', phase=1),\n",
       " Row(userId='30', firstname='Colin', ts=1538357452000, page='NextSong', level='paid', phase=1),\n",
       " Row(userId='30', firstname='Colin', ts=1538357648000, page='NextSong', level='paid', phase=1),\n",
       " Row(userId='30', firstname='Colin', ts=1538357649000, page='Thumbs Up', level='paid', phase=1),\n",
       " Row(userId='30', firstname='Colin', ts=1538357990000, page='NextSong', level='paid', phase=1),\n",
       " Row(userId='30', firstname='Colin', ts=1538357991000, page='Thumbs Up', level='paid', phase=1),\n",
       " Row(userId='30', firstname='Colin', ts=1538358314000, page='NextSong', level='paid', phase=1),\n",
       " Row(userId='30', firstname='Colin', ts=1538358532000, page='NextSong', level='paid', phase=1),\n",
       " Row(userId='30', firstname='Colin', ts=1538358761000, page='NextSong', level='paid', phase=1),\n",
       " Row(userId='30', firstname='Colin', ts=1538359054000, page='NextSong', level='paid', phase=1),\n",
       " Row(userId='30', firstname='Colin', ts=1538359320000, page='NextSong', level='paid', phase=1),\n",
       " Row(userId='30', firstname='Colin', ts=1538360720000, page='NextSong', level='paid', phase=1),\n",
       " Row(userId='30', firstname='Colin', ts=1538360737000, page='Roll Advert', level='paid', phase=1),\n",
       " Row(userId='30', firstname='Colin', ts=1538360905000, page='NextSong', level='paid', phase=1),\n",
       " Row(userId='30', firstname='Colin', ts=1538361107000, page='NextSong', level='paid', phase=1),\n",
       " Row(userId='30', firstname='Colin', ts=1538361372000, page='NextSong', level='paid', phase=1),\n",
       " Row(userId='30', firstname='Colin', ts=1538361540000, page='NextSong', level='paid', phase=1),\n",
       " Row(userId='30', firstname='Colin', ts=1538361575000, page='Add to Playlist', level='paid', phase=1),\n",
       " Row(userId='30', firstname='Colin', ts=1538810630000, page='NextSong', level='paid', phase=1),\n",
       " Row(userId='30', firstname='Colin', ts=1538810631000, page='Add Friend', level='paid', phase=1),\n",
       " Row(userId='30', firstname='Colin', ts=1538948226000, page='Home', level='paid', phase=1),\n",
       " Row(userId='30', firstname='Colin', ts=1538948240000, page='NextSong', level='paid', phase=1),\n",
       " Row(userId='30', firstname='Colin', ts=1538948591000, page='NextSong', level='paid', phase=1),\n",
       " Row(userId='30', firstname='Colin', ts=1538948837000, page='NextSong', level='paid', phase=1),\n",
       " Row(userId='30', firstname='Colin', ts=1538949034000, page='NextSong', level='paid', phase=1),\n",
       " Row(userId='30', firstname='Colin', ts=1538949225000, page='NextSong', level='paid', phase=1),\n",
       " Row(userId='30', firstname='Colin', ts=1538949548000, page='NextSong', level='paid', phase=1),\n",
       " Row(userId='30', firstname='Colin', ts=1538949893000, page='NextSong', level='paid', phase=1),\n",
       " Row(userId='30', firstname='Colin', ts=1538950072000, page='NextSong', level='paid', phase=1),\n",
       " Row(userId='30', firstname='Colin', ts=1538950302000, page='NextSong', level='paid', phase=1),\n",
       " Row(userId='30', firstname='Colin', ts=1538950541000, page='NextSong', level='paid', phase=1),\n",
       " Row(userId='30', firstname='Colin', ts=1538950549000, page='Help', level='paid', phase=1),\n",
       " Row(userId='30', firstname='Colin', ts=1538950593000, page='Home', level='paid', phase=1),\n",
       " Row(userId='30', firstname='Colin', ts=1538950812000, page='NextSong', level='paid', phase=1),\n",
       " Row(userId='30', firstname='Colin', ts=1538951123000, page='NextSong', level='paid', phase=1),\n",
       " Row(userId='30', firstname='Colin', ts=1538951327000, page='NextSong', level='paid', phase=1),\n",
       " Row(userId='30', firstname='Colin', ts=1538951566000, page='NextSong', level='paid', phase=1),\n",
       " Row(userId='30', firstname='Colin', ts=1538951758000, page='NextSong', level='paid', phase=1),\n",
       " Row(userId='30', firstname='Colin', ts=1538951976000, page='NextSong', level='paid', phase=1),\n",
       " Row(userId='30', firstname='Colin', ts=1538952145000, page='NextSong', level='paid', phase=1),\n",
       " Row(userId='30', firstname='Colin', ts=1538952381000, page='NextSong', level='paid', phase=1),\n",
       " Row(userId='30', firstname='Colin', ts=1538952621000, page='NextSong', level='paid', phase=1),\n",
       " Row(userId='30', firstname='Colin', ts=1538952837000, page='NextSong', level='paid', phase=1),\n",
       " Row(userId='30', firstname='Colin', ts=1538953091000, page='NextSong', level='paid', phase=1),\n",
       " Row(userId='30', firstname='Colin', ts=1538953282000, page='NextSong', level='paid', phase=1),\n",
       " Row(userId='30', firstname='Colin', ts=1538953507000, page='NextSong', level='paid', phase=1),\n",
       " Row(userId='30', firstname='Colin', ts=1538953526000, page='Downgrade', level='paid', phase=1),\n",
       " Row(userId='30', firstname='Colin', ts=1538953759000, page='NextSong', level='paid', phase=1),\n",
       " Row(userId='30', firstname='Colin', ts=1538953924000, page='NextSong', level='paid', phase=1),\n",
       " Row(userId='30', firstname='Colin', ts=1538954176000, page='NextSong', level='paid', phase=1),\n",
       " Row(userId='30', firstname='Colin', ts=1538954314000, page='NextSong', level='paid', phase=1),\n",
       " Row(userId='30', firstname='Colin', ts=1538954495000, page='NextSong', level='paid', phase=1),\n",
       " Row(userId='30', firstname='Colin', ts=1538954728000, page='NextSong', level='paid', phase=1),\n",
       " Row(userId='30', firstname='Colin', ts=1538954902000, page='NextSong', level='paid', phase=1),\n",
       " Row(userId='30', firstname='Colin', ts=1538955151000, page='NextSong', level='paid', phase=1),\n",
       " Row(userId='30', firstname='Colin', ts=1538955377000, page='NextSong', level='paid', phase=1),\n",
       " Row(userId='30', firstname='Colin', ts=1538955595000, page='NextSong', level='paid', phase=1),\n",
       " Row(userId='30', firstname='Colin', ts=1538955835000, page='NextSong', level='paid', phase=1),\n",
       " Row(userId='30', firstname='Colin', ts=1538956036000, page='NextSong', level='paid', phase=1),\n",
       " Row(userId='30', firstname='Colin', ts=1538956230000, page='NextSong', level='paid', phase=1),\n",
       " Row(userId='30', firstname='Colin', ts=1538956475000, page='NextSong', level='paid', phase=1),\n",
       " Row(userId='30', firstname='Colin', ts=1538956816000, page='NextSong', level='paid', phase=1),\n",
       " Row(userId='30', firstname='Colin', ts=1538957055000, page='NextSong', level='paid', phase=1),\n",
       " Row(userId='30', firstname='Colin', ts=1538957228000, page='NextSong', level='paid', phase=1),\n",
       " Row(userId='30', firstname='Colin', ts=1538957589000, page='NextSong', level='paid', phase=1),\n",
       " Row(userId='30', firstname='Colin', ts=1538957763000, page='NextSong', level='paid', phase=1),\n",
       " Row(userId='30', firstname='Colin', ts=1538957960000, page='NextSong', level='paid', phase=1),\n",
       " Row(userId='30', firstname='Colin', ts=1538958090000, page='NextSong', level='paid', phase=1),\n",
       " Row(userId='30', firstname='Colin', ts=1538958387000, page='NextSong', level='paid', phase=1),\n",
       " Row(userId='30', firstname='Colin', ts=1538958666000, page='NextSong', level='paid', phase=1),\n",
       " Row(userId='30', firstname='Colin', ts=1538958923000, page='NextSong', level='paid', phase=1),\n",
       " Row(userId='30', firstname='Colin', ts=1538959027000, page='NextSong', level='paid', phase=1),\n",
       " Row(userId='30', firstname='Colin', ts=1538959280000, page='NextSong', level='paid', phase=1),\n",
       " Row(userId='30', firstname='Colin', ts=1538959533000, page='NextSong', level='paid', phase=1),\n",
       " Row(userId='30', firstname='Colin', ts=1538959963000, page='NextSong', level='paid', phase=1),\n",
       " Row(userId='30', firstname='Colin', ts=1538960213000, page='NextSong', level='paid', phase=1),\n",
       " Row(userId='30', firstname='Colin', ts=1538960465000, page='NextSong', level='paid', phase=1),\n",
       " Row(userId='30', firstname='Colin', ts=1538960673000, page='NextSong', level='paid', phase=1),\n",
       " Row(userId='30', firstname='Colin', ts=1538960992000, page='NextSong', level='paid', phase=1),\n",
       " Row(userId='30', firstname='Colin', ts=1538961330000, page='NextSong', level='paid', phase=1),\n",
       " Row(userId='30', firstname='Colin', ts=1538961486000, page='NextSong', level='paid', phase=1),\n",
       " Row(userId='30', firstname='Colin', ts=1538961725000, page='NextSong', level='paid', phase=1),\n",
       " Row(userId='30', firstname='Colin', ts=1538962017000, page='NextSong', level='paid', phase=1),\n",
       " Row(userId='30', firstname='Colin', ts=1538962107000, page='NextSong', level='paid', phase=1),\n",
       " Row(userId='30', firstname='Colin', ts=1538962305000, page='NextSong', level='paid', phase=1),\n",
       " Row(userId='30', firstname='Colin', ts=1538962544000, page='NextSong', level='paid', phase=1),\n",
       " Row(userId='30', firstname='Colin', ts=1538962840000, page='NextSong', level='paid', phase=1),\n",
       " Row(userId='30', firstname='Colin', ts=1538962841000, page='Thumbs Up', level='paid', phase=1),\n",
       " Row(userId='30', firstname='Colin', ts=1538963112000, page='NextSong', level='paid', phase=1),\n",
       " Row(userId='30', firstname='Colin', ts=1538963113000, page='Thumbs Up', level='paid', phase=1),\n",
       " Row(userId='30', firstname='Colin', ts=1538963400000, page='NextSong', level='paid', phase=1),\n",
       " Row(userId='30', firstname='Colin', ts=1538963591000, page='NextSong', level='paid', phase=1),\n",
       " Row(userId='30', firstname='Colin', ts=1538963901000, page='NextSong', level='paid', phase=1),\n",
       " Row(userId='30', firstname='Colin', ts=1538964128000, page='NextSong', level='paid', phase=1),\n",
       " Row(userId='30', firstname='Colin', ts=1538964389000, page='NextSong', level='paid', phase=1),\n",
       " Row(userId='30', firstname='Colin', ts=1538964590000, page='NextSong', level='paid', phase=1),\n",
       " Row(userId='30', firstname='Colin', ts=1538964808000, page='NextSong', level='paid', phase=1),\n",
       " Row(userId='30', firstname='Colin', ts=1538965100000, page='NextSong', level='paid', phase=1),\n",
       " Row(userId='30', firstname='Colin', ts=1538965154000, page='Home', level='paid', phase=1),\n",
       " Row(userId='30', firstname='Colin', ts=1538965437000, page='NextSong', level='paid', phase=1),\n",
       " Row(userId='30', firstname='Colin', ts=1538965741000, page='NextSong', level='paid', phase=1),\n",
       " Row(userId='30', firstname='Colin', ts=1538965958000, page='NextSong', level='paid', phase=1),\n",
       " Row(userId='30', firstname='Colin', ts=1538966208000, page='NextSong', level='paid', phase=1),\n",
       " Row(userId='30', firstname='Colin', ts=1538966484000, page='NextSong', level='paid', phase=1),\n",
       " Row(userId='30', firstname='Colin', ts=1538966724000, page='NextSong', level='paid', phase=1),\n",
       " Row(userId='30', firstname='Colin', ts=1538966924000, page='NextSong', level='paid', phase=1),\n",
       " Row(userId='30', firstname='Colin', ts=1538966961000, page='Add to Playlist', level='paid', phase=1),\n",
       " Row(userId='30', firstname='Colin', ts=1538967205000, page='NextSong', level='paid', phase=1),\n",
       " Row(userId='30', firstname='Colin', ts=1538967447000, page='NextSong', level='paid', phase=1),\n",
       " Row(userId='30', firstname='Colin', ts=1538967448000, page='Thumbs Up', level='paid', phase=1),\n",
       " Row(userId='30', firstname='Colin', ts=1538967453000, page='Add to Playlist', level='paid', phase=1),\n",
       " Row(userId='30', firstname='Colin', ts=1538967726000, page='NextSong', level='paid', phase=1),\n",
       " Row(userId='30', firstname='Colin', ts=1538967967000, page='NextSong', level='paid', phase=1),\n",
       " Row(userId='30', firstname='Colin', ts=1538967968000, page='Thumbs Up', level='paid', phase=1),\n",
       " Row(userId='30', firstname='Colin', ts=1538967976000, page='Add to Playlist', level='paid', phase=1),\n",
       " Row(userId='30', firstname='Colin', ts=1538968163000, page='NextSong', level='paid', phase=1),\n",
       " Row(userId='30', firstname='Colin', ts=1538968181000, page='Add to Playlist', level='paid', phase=1),\n",
       " Row(userId='30', firstname='Colin', ts=1538968565000, page='NextSong', level='paid', phase=1),\n",
       " Row(userId='30', firstname='Colin', ts=1538968904000, page='NextSong', level='paid', phase=1),\n",
       " Row(userId='30', firstname='Colin', ts=1538969169000, page='NextSong', level='paid', phase=1),\n",
       " Row(userId='30', firstname='Colin', ts=1538969397000, page='NextSong', level='paid', phase=1),\n",
       " Row(userId='30', firstname='Colin', ts=1538969679000, page='NextSong', level='paid', phase=1),\n",
       " Row(userId='30', firstname='Colin', ts=1538969967000, page='NextSong', level='paid', phase=1),\n",
       " Row(userId='30', firstname='Colin', ts=1538970249000, page='NextSong', level='paid', phase=1),\n",
       " Row(userId='30', firstname='Colin', ts=1538970477000, page='NextSong', level='paid', phase=1),\n",
       " Row(userId='30', firstname='Colin', ts=1538970478000, page='Thumbs Up', level='paid', phase=1),\n",
       " Row(userId='30', firstname='Colin', ts=1538970847000, page='NextSong', level='paid', phase=1),\n",
       " Row(userId='30', firstname='Colin', ts=1538971054000, page='NextSong', level='paid', phase=1),\n",
       " Row(userId='30', firstname='Colin', ts=1538971191000, page='Home', level='paid', phase=1),\n",
       " Row(userId='30', firstname='Colin', ts=1538971204000, page='NextSong', level='paid', phase=1),\n",
       " Row(userId='30', firstname='Colin', ts=1538971535000, page='NextSong', level='paid', phase=1),\n",
       " Row(userId='30', firstname='Colin', ts=1538971736000, page='NextSong', level='paid', phase=1),\n",
       " Row(userId='30', firstname='Colin', ts=1538971737000, page='Add Friend', level='paid', phase=1),\n",
       " Row(userId='30', firstname='Colin', ts=1538971968000, page='NextSong', level='paid', phase=1),\n",
       " Row(userId='30', firstname='Colin', ts=1538972155000, page='NextSong', level='paid', phase=1),\n",
       " Row(userId='30', firstname='Colin', ts=1538972366000, page='NextSong', level='paid', phase=1),\n",
       " Row(userId='30', firstname='Colin', ts=1538972603000, page='NextSong', level='paid', phase=1),\n",
       " Row(userId='30', firstname='Colin', ts=1538972604000, page='Thumbs Up', level='paid', phase=1),\n",
       " Row(userId='30', firstname='Colin', ts=1538972749000, page='NextSong', level='paid', phase=1),\n",
       " Row(userId='30', firstname='Colin', ts=1538973112000, page='NextSong', level='paid', phase=1),\n",
       " Row(userId='30', firstname='Colin', ts=1538973235000, page='NextSong', level='paid', phase=1),\n",
       " Row(userId='30', firstname='Colin', ts=1538973529000, page='NextSong', level='paid', phase=1),\n",
       " Row(userId='30', firstname='Colin', ts=1538973865000, page='NextSong', level='paid', phase=1),\n",
       " Row(userId='30', firstname='Colin', ts=1538974008000, page='NextSong', level='paid', phase=1),\n",
       " Row(userId='30', firstname='Colin', ts=1538974395000, page='NextSong', level='paid', phase=1),\n",
       " Row(userId='30', firstname='Colin', ts=1538974658000, page='NextSong', level='paid', phase=1),\n",
       " Row(userId='30', firstname='Colin', ts=1538974930000, page='NextSong', level='paid', phase=1),\n",
       " Row(userId='30', firstname='Colin', ts=1538975199000, page='NextSong', level='paid', phase=1),\n",
       " Row(userId='30', firstname='Colin', ts=1538975394000, page='NextSong', level='paid', phase=1),\n",
       " Row(userId='30', firstname='Colin', ts=1538975640000, page='NextSong', level='paid', phase=1),\n",
       " Row(userId='30', firstname='Colin', ts=1538975892000, page='NextSong', level='paid', phase=1),\n",
       " Row(userId='30', firstname='Colin', ts=1538976048000, page='NextSong', level='paid', phase=1),\n",
       " Row(userId='30', firstname='Colin', ts=1538976227000, page='NextSong', level='paid', phase=1),\n",
       " Row(userId='30', firstname='Colin', ts=1538976417000, page='NextSong', level='paid', phase=1),\n",
       " Row(userId='30', firstname='Colin', ts=1538976666000, page='NextSong', level='paid', phase=1),\n",
       " Row(userId='30', firstname='Colin', ts=1538976856000, page='NextSong', level='paid', phase=1),\n",
       " Row(userId='30', firstname='Colin', ts=1538977052000, page='NextSong', level='paid', phase=1),\n",
       " Row(userId='30', firstname='Colin', ts=1538977053000, page='Thumbs Up', level='paid', phase=1),\n",
       " Row(userId='30', firstname='Colin', ts=1538977318000, page='NextSong', level='paid', phase=1),\n",
       " Row(userId='30', firstname='Colin', ts=1538977336000, page='Home', level='paid', phase=1),\n",
       " Row(userId='30', firstname='Colin', ts=1538977616000, page='NextSong', level='paid', phase=1),\n",
       " Row(userId='30', firstname='Colin', ts=1538977868000, page='NextSong', level='paid', phase=1),\n",
       " Row(userId='30', firstname='Colin', ts=1538978097000, page='NextSong', level='paid', phase=1),\n",
       " Row(userId='30', firstname='Colin', ts=1538978294000, page='NextSong', level='paid', phase=1),\n",
       " Row(userId='30', firstname='Colin', ts=1538978500000, page='NextSong', level='paid', phase=1),\n",
       " Row(userId='30', firstname='Colin', ts=1538978501000, page='Thumbs Up', level='paid', phase=1),\n",
       " Row(userId='30', firstname='Colin', ts=1538980515000, page='NextSong', level='paid', phase=1),\n",
       " Row(userId='30', firstname='Colin', ts=1538980901000, page='NextSong', level='paid', phase=1),\n",
       " Row(userId='30', firstname='Colin', ts=1538981087000, page='NextSong', level='paid', phase=1),\n",
       " Row(userId='30', firstname='Colin', ts=1538981272000, page='NextSong', level='paid', phase=1),\n",
       " Row(userId='30', firstname='Colin', ts=1538981536000, page='NextSong', level='paid', phase=1),\n",
       " Row(userId='30', firstname='Colin', ts=1538981973000, page='NextSong', level='paid', phase=1),\n",
       " Row(userId='30', firstname='Colin', ts=1538982201000, page='NextSong', level='paid', phase=1),\n",
       " Row(userId='30', firstname='Colin', ts=1538982367000, page='NextSong', level='paid', phase=1),\n",
       " Row(userId='30', firstname='Colin', ts=1538982535000, page='NextSong', level='paid', phase=1),\n",
       " Row(userId='30', firstname='Colin', ts=1538982771000, page='NextSong', level='paid', phase=1),\n",
       " Row(userId='30', firstname='Colin', ts=1538983127000, page='NextSong', level='paid', phase=1),\n",
       " Row(userId='30', firstname='Colin', ts=1538983333000, page='NextSong', level='paid', phase=1),\n",
       " Row(userId='30', firstname='Colin', ts=1538983551000, page='NextSong', level='paid', phase=1),\n",
       " Row(userId='30', firstname='Colin', ts=1538983809000, page='NextSong', level='paid', phase=1),\n",
       " Row(userId='30', firstname='Colin', ts=1538984035000, page='NextSong', level='paid', phase=1),\n",
       " Row(userId='30', firstname='Colin', ts=1538984245000, page='NextSong', level='paid', phase=1),\n",
       " Row(userId='30', firstname='Colin', ts=1538984541000, page='NextSong', level='paid', phase=1),\n",
       " Row(userId='30', firstname='Colin', ts=1538984631000, page='NextSong', level='paid', phase=1),\n",
       " Row(userId='30', firstname='Colin', ts=1538985042000, page='NextSong', level='paid', phase=1),\n",
       " Row(userId='30', firstname='Colin', ts=1538985043000, page='Thumbs Up', level='paid', phase=1),\n",
       " Row(userId='30', firstname='Colin', ts=1538985286000, page='NextSong', level='paid', phase=1),\n",
       " Row(userId='30', firstname='Colin', ts=1538985420000, page='NextSong', level='paid', phase=1),\n",
       " Row(userId='30', firstname='Colin', ts=1538985421000, page='Add Friend', level='paid', phase=1),\n",
       " Row(userId='30', firstname='Colin', ts=1538985422000, page='Add Friend', level='paid', phase=1),\n",
       " Row(userId='30', firstname='Colin', ts=1538985653000, page='NextSong', level='paid', phase=1),\n",
       " Row(userId='30', firstname='Colin', ts=1538985666000, page='Add to Playlist', level='paid', phase=1),\n",
       " Row(userId='30', firstname='Colin', ts=1538985765000, page='NextSong', level='paid', phase=1),\n",
       " Row(userId='30', firstname='Colin', ts=1538986039000, page='NextSong', level='paid', phase=1),\n",
       " Row(userId='30', firstname='Colin', ts=1538986272000, page='NextSong', level='paid', phase=1),\n",
       " Row(userId='30', firstname='Colin', ts=1538986292000, page='Settings', level='paid', phase=1),\n",
       " Row(userId='30', firstname='Colin', ts=1538986522000, page='NextSong', level='paid', phase=1),\n",
       " Row(userId='30', firstname='Colin', ts=1538986758000, page='NextSong', level='paid', phase=1),\n",
       " Row(userId='30', firstname='Colin', ts=1538986954000, page='NextSong', level='paid', phase=1),\n",
       " Row(userId='30', firstname='Colin', ts=1538987267000, page='NextSong', level='paid', phase=1),\n",
       " Row(userId='30', firstname='Colin', ts=1538987268000, page='Thumbs Up', level='paid', phase=1),\n",
       " Row(userId='30', firstname='Colin', ts=1538987470000, page='NextSong', level='paid', phase=1),\n",
       " Row(userId='30', firstname='Colin', ts=1538987780000, page='NextSong', level='paid', phase=1),\n",
       " Row(userId='30', firstname='Colin', ts=1538987992000, page='NextSong', level='paid', phase=1),\n",
       " Row(userId='30', firstname='Colin', ts=1538988233000, page='NextSong', level='paid', phase=1),\n",
       " Row(userId='30', firstname='Colin', ts=1538988476000, page='NextSong', level='paid', phase=1),\n",
       " Row(userId='30', firstname='Colin', ts=1538988872000, page='NextSong', level='paid', phase=1),\n",
       " Row(userId='30', firstname='Colin', ts=1538989190000, page='NextSong', level='paid', phase=1),\n",
       " Row(userId='30', firstname='Colin', ts=1538989460000, page='NextSong', level='paid', phase=1),\n",
       " Row(userId='30', firstname='Colin', ts=1538989626000, page='NextSong', level='paid', phase=1),\n",
       " Row(userId='30', firstname='Colin', ts=1538989842000, page='NextSong', level='paid', phase=1),\n",
       " Row(userId='30', firstname='Colin', ts=1538990110000, page='NextSong', level='paid', phase=1),\n",
       " Row(userId='30', firstname='Colin', ts=1538990348000, page='NextSong', level='paid', phase=1),\n",
       " Row(userId='30', firstname='Colin', ts=1538990355000, page='Add to Playlist', level='paid', phase=1),\n",
       " Row(userId='30', firstname='Colin', ts=1538990608000, page='NextSong', level='paid', phase=1),\n",
       " Row(userId='30', firstname='Colin', ts=1538990789000, page='NextSong', level='paid', phase=1),\n",
       " Row(userId='30', firstname='Colin', ts=1538990811000, page='Error', level='paid', phase=1),\n",
       " Row(userId='30', firstname='Colin', ts=1538990964000, page='NextSong', level='paid', phase=1),\n",
       " Row(userId='30', firstname='Colin', ts=1538991359000, page='NextSong', level='paid', phase=1),\n",
       " Row(userId='30', firstname='Colin', ts=1538991874000, page='NextSong', level='paid', phase=1),\n",
       " Row(userId='30', firstname='Colin', ts=1538992187000, page='NextSong', level='paid', phase=1),\n",
       " Row(userId='30', firstname='Colin', ts=1538992508000, page='NextSong', level='paid', phase=1),\n",
       " Row(userId='30', firstname='Colin', ts=1538993164000, page='NextSong', level='paid', phase=1),\n",
       " Row(userId='30', firstname='Colin', ts=1538993384000, page='NextSong', level='paid', phase=1),\n",
       " Row(userId='30', firstname='Colin', ts=1538993615000, page='NextSong', level='paid', phase=1),\n",
       " Row(userId='30', firstname='Colin', ts=1538993850000, page='NextSong', level='paid', phase=1),\n",
       " Row(userId='30', firstname='Colin', ts=1538994156000, page='NextSong', level='paid', phase=1),\n",
       " Row(userId='30', firstname='Colin', ts=1538994201000, page='Downgrade', level='paid', phase=1),\n",
       " Row(userId='30', firstname='Colin', ts=1538994374000, page='NextSong', level='paid', phase=1),\n",
       " Row(userId='30', firstname='Colin', ts=1538994562000, page='NextSong', level='paid', phase=1),\n",
       " Row(userId='30', firstname='Colin', ts=1538994832000, page='NextSong', level='paid', phase=1),\n",
       " Row(userId='30', firstname='Colin', ts=1538995016000, page='NextSong', level='paid', phase=1),\n",
       " Row(userId='30', firstname='Colin', ts=1538995447000, page='NextSong', level='paid', phase=1),\n",
       " Row(userId='30', firstname='Colin', ts=1538995453000, page='Downgrade', level='paid', phase=1),\n",
       " Row(userId='30', firstname='Colin', ts=1538995454000, page='Submit Downgrade', level='paid', phase=1),\n",
       " Row(userId='30', firstname='Colin', ts=1538995509000, page='Home', level='free', phase=0),\n",
       " Row(userId='30', firstname='Colin', ts=1538995657000, page='NextSong', level='free', phase=0),\n",
       " Row(userId='30', firstname='Colin', ts=1538995915000, page='NextSong', level='free', phase=0),\n",
       " Row(userId='30', firstname='Colin', ts=1538996254000, page='NextSong', level='free', phase=0),\n",
       " Row(userId='30', firstname='Colin', ts=1538996261000, page='Add to Playlist', level='free', phase=0),\n",
       " Row(userId='30', firstname='Colin', ts=1538996451000, page='NextSong', level='free', phase=0),\n",
       " Row(userId='30', firstname='Colin', ts=1538996718000, page='NextSong', level='free', phase=0),\n",
       " Row(userId='30', firstname='Colin', ts=1538996862000, page='NextSong', level='free', phase=0),\n",
       " Row(userId='30', firstname='Colin', ts=1538996870000, page='Home', level='free', phase=0),\n",
       " Row(userId='30', firstname='Colin', ts=1538997066000, page='NextSong', level='free', phase=0),\n",
       " Row(userId='30', firstname='Colin', ts=1538997356000, page='NextSong', level='free', phase=0),\n",
       " Row(userId='30', firstname='Colin', ts=1538997655000, page='NextSong', level='free', phase=0),\n",
       " Row(userId='30', firstname='Colin', ts=1538997824000, page='NextSong', level='free', phase=0),\n",
       " Row(userId='30', firstname='Colin', ts=1538997825000, page='Thumbs Up', level='free', phase=0),\n",
       " Row(userId='30', firstname='Colin', ts=1538998102000, page='NextSong', level='free', phase=0),\n",
       " Row(userId='30', firstname='Colin', ts=1538998114000, page='Add to Playlist', level='free', phase=0),\n",
       " Row(userId='30', firstname='Colin', ts=1538998450000, page='NextSong', level='free', phase=0),\n",
       " Row(userId='30', firstname='Colin', ts=1538998660000, page='NextSong', level='free', phase=0),\n",
       " Row(userId='30', firstname='Colin', ts=1538998989000, page='NextSong', level='free', phase=0),\n",
       " Row(userId='30', firstname='Colin', ts=1538999210000, page='NextSong', level='free', phase=0),\n",
       " Row(userId='30', firstname='Colin', ts=1538999425000, page='NextSong', level='free', phase=0),\n",
       " Row(userId='30', firstname='Colin', ts=1538999644000, page='NextSong', level='free', phase=0),\n",
       " Row(userId='30', firstname='Colin', ts=1538999867000, page='NextSong', level='free', phase=0),\n",
       " Row(userId='30', firstname='Colin', ts=1539000087000, page='NextSong', level='free', phase=0),\n",
       " Row(userId='30', firstname='Colin', ts=1539000321000, page='NextSong', level='free', phase=0),\n",
       " Row(userId='30', firstname='Colin', ts=1539000599000, page='NextSong', level='free', phase=0),\n",
       " Row(userId='30', firstname='Colin', ts=1539000795000, page='NextSong', level='free', phase=0),\n",
       " Row(userId='30', firstname='Colin', ts=1539000918000, page='NextSong', level='free', phase=0),\n",
       " Row(userId='30', firstname='Colin', ts=1539000958000, page='Upgrade', level='free', phase=0),\n",
       " Row(userId='30', firstname='Colin', ts=1539001052000, page='NextSong', level='free', phase=0),\n",
       " Row(userId='30', firstname='Colin', ts=1539001077000, page='Upgrade', level='free', phase=0),\n",
       " Row(userId='30', firstname='Colin', ts=1539001243000, page='NextSong', level='free', phase=0),\n",
       " Row(userId='30', firstname='Colin', ts=1539001451000, page='NextSong', level='free', phase=0),\n",
       " Row(userId='30', firstname='Colin', ts=1539001513000, page='Add to Playlist', level='free', phase=0),\n",
       " Row(userId='30', firstname='Colin', ts=1539001945000, page='NextSong', level='free', phase=0),\n",
       " Row(userId='30', firstname='Colin', ts=1539002135000, page='NextSong', level='free', phase=0),\n",
       " Row(userId='30', firstname='Colin', ts=1539002303000, page='NextSong', level='free', phase=0),\n",
       " Row(userId='30', firstname='Colin', ts=1539002562000, page='NextSong', level='free', phase=0),\n",
       " Row(userId='30', firstname='Colin', ts=1539002881000, page='NextSong', level='free', phase=0),\n",
       " Row(userId='30', firstname='Colin', ts=1539003010000, page='NextSong', level='free', phase=0),\n",
       " Row(userId='30', firstname='Colin', ts=1539003011000, page='Thumbs Up', level='free', phase=0),\n",
       " Row(userId='30', firstname='Colin', ts=1539003233000, page='NextSong', level='free', phase=0),\n",
       " Row(userId='30', firstname='Colin', ts=1539003419000, page='NextSong', level='free', phase=0),\n",
       " Row(userId='30', firstname='Colin', ts=1539003841000, page='NextSong', level='free', phase=0),\n",
       " Row(userId='30', firstname='Colin', ts=1539003842000, page='Thumbs Up', level='free', phase=0),\n",
       " Row(userId='30', firstname='Colin', ts=1539004108000, page='NextSong', level='free', phase=0),\n",
       " Row(userId='30', firstname='Colin', ts=1539004374000, page='NextSong', level='free', phase=0),\n",
       " Row(userId='30', firstname='Colin', ts=1539004480000, page='NextSong', level='free', phase=0),\n",
       " Row(userId='30', firstname='Colin', ts=1539004502000, page='Roll Advert', level='free', phase=0),\n",
       " Row(userId='30', firstname='Colin', ts=1539004882000, page='NextSong', level='free', phase=0),\n",
       " Row(userId='30', firstname='Colin', ts=1539005256000, page='NextSong', level='free', phase=0),\n",
       " Row(userId='30', firstname='Colin', ts=1539005507000, page='NextSong', level='free', phase=0),\n",
       " Row(userId='30', firstname='Colin', ts=1539005525000, page='Add to Playlist', level='free', phase=0),\n",
       " Row(userId='30', firstname='Colin', ts=1539005758000, page='NextSong', level='free', phase=0),\n",
       " Row(userId='30', firstname='Colin', ts=1539005788000, page='Home', level='free', phase=0),\n",
       " Row(userId='30', firstname='Colin', ts=1539005966000, page='NextSong', level='free', phase=0),\n",
       " Row(userId='30', firstname='Colin', ts=1539006314000, page='NextSong', level='free', phase=0),\n",
       " Row(userId='30', firstname='Colin', ts=1539006315000, page='Thumbs Up', level='free', phase=0),\n",
       " Row(userId='30', firstname='Colin', ts=1539006578000, page='NextSong', level='free', phase=0),\n",
       " Row(userId='30', firstname='Colin', ts=1539006759000, page='NextSong', level='free', phase=0),\n",
       " Row(userId='30', firstname='Colin', ts=1539006924000, page='NextSong', level='free', phase=0),\n",
       " Row(userId='30', firstname='Colin', ts=1539007237000, page='NextSong', level='free', phase=0),\n",
       " Row(userId='30', firstname='Colin', ts=1539007238000, page='Add Friend', level='free', phase=0),\n",
       " Row(userId='30', firstname='Colin', ts=1539007239000, page='Add Friend', level='free', phase=0),\n",
       " Row(userId='30', firstname='Colin', ts=1539007249000, page='Home', level='free', phase=0),\n",
       " Row(userId='30', firstname='Colin', ts=1539007438000, page='NextSong', level='free', phase=0),\n",
       " Row(userId='30', firstname='Colin', ts=1539007439000, page='Roll Advert', level='free', phase=0),\n",
       " Row(userId='30', firstname='Colin', ts=1539007649000, page='NextSong', level='free', phase=0),\n",
       " Row(userId='30', firstname='Colin', ts=1539007935000, page='NextSong', level='free', phase=0),\n",
       " Row(userId='30', firstname='Colin', ts=1539008179000, page='NextSong', level='free', phase=0),\n",
       " Row(userId='30', firstname='Colin', ts=1539008217000, page='Home', level='free', phase=0),\n",
       " Row(userId='30', firstname='Colin', ts=1539008382000, page='NextSong', level='free', phase=0),\n",
       " Row(userId='30', firstname='Colin', ts=1539008779000, page='NextSong', level='free', phase=0),\n",
       " Row(userId='30', firstname='Colin', ts=1539009008000, page='NextSong', level='free', phase=0),\n",
       " Row(userId='30', firstname='Colin', ts=1539009195000, page='NextSong', level='free', phase=0),\n",
       " Row(userId='30', firstname='Colin', ts=1539158867000, page='Home', level='free', phase=0),\n",
       " Row(userId='30', firstname='Colin', ts=1539158890000, page='NextSong', level='free', phase=0),\n",
       " Row(userId='30', firstname='Colin', ts=1539159148000, page='NextSong', level='free', phase=0),\n",
       " Row(userId='30', firstname='Colin', ts=1539159403000, page='NextSong', level='free', phase=0),\n",
       " Row(userId='30', firstname='Colin', ts=1539159653000, page='NextSong', level='free', phase=0),\n",
       " Row(userId='30', firstname='Colin', ts=1539159936000, page='NextSong', level='free', phase=0),\n",
       " Row(userId='30', firstname='Colin', ts=1539273182000, page='Home', level='free', phase=0),\n",
       " Row(userId='30', firstname='Colin', ts=1539273245000, page='Home', level='free', phase=0),\n",
       " Row(userId='30', firstname='Colin', ts=1539275685000, page='Home', level='free', phase=0),\n",
       " Row(userId='30', firstname='Colin', ts=1539275691000, page='NextSong', level='free', phase=0),\n",
       " Row(userId='30', firstname='Colin', ts=1539275897000, page='NextSong', level='free', phase=0),\n",
       " Row(userId='30', firstname='Colin', ts=1539276162000, page='NextSong', level='free', phase=0),\n",
       " Row(userId='30', firstname='Colin', ts=1539276378000, page='NextSong', level='free', phase=0),\n",
       " Row(userId='30', firstname='Colin', ts=1539276711000, page='NextSong', level='free', phase=0),\n",
       " Row(userId='30', firstname='Colin', ts=1539276950000, page='NextSong', level='free', phase=0),\n",
       " Row(userId='30', firstname='Colin', ts=1539276951000, page='Roll Advert', level='free', phase=0),\n",
       " Row(userId='30', firstname='Colin', ts=1539277255000, page='NextSong', level='free', phase=0),\n",
       " Row(userId='30', firstname='Colin', ts=1539277261000, page='Upgrade', level='free', phase=0),\n",
       " Row(userId='30', firstname='Colin', ts=1539277530000, page='NextSong', level='free', phase=0),\n",
       " Row(userId='30', firstname='Colin', ts=1539277711000, page='NextSong', level='free', phase=0),\n",
       " Row(userId='30', firstname='Colin', ts=1539277944000, page='NextSong', level='free', phase=0),\n",
       " Row(userId='30', firstname='Colin', ts=1539278183000, page='NextSong', level='free', phase=0),\n",
       " Row(userId='30', firstname='Colin', ts=1539278516000, page='NextSong', level='free', phase=0),\n",
       " Row(userId='30', firstname='Colin', ts=1539278732000, page='NextSong', level='free', phase=0),\n",
       " Row(userId='30', firstname='Colin', ts=1539278911000, page='NextSong', level='free', phase=0),\n",
       " Row(userId='30', firstname='Colin', ts=1539279119000, page='NextSong', level='free', phase=0),\n",
       " Row(userId='30', firstname='Colin', ts=1539279316000, page='NextSong', level='free', phase=0),\n",
       " Row(userId='30', firstname='Colin', ts=1539279636000, page='NextSong', level='free', phase=0),\n",
       " Row(userId='30', firstname='Colin', ts=1539279892000, page='NextSong', level='free', phase=0),\n",
       " Row(userId='30', firstname='Colin', ts=1539279893000, page='Thumbs Up', level='free', phase=0),\n",
       " Row(userId='30', firstname='Colin', ts=1539280389000, page='NextSong', level='free', phase=0),\n",
       " Row(userId='30', firstname='Colin', ts=1539280570000, page='NextSong', level='free', phase=0),\n",
       " Row(userId='30', firstname='Colin', ts=1539280818000, page='NextSong', level='free', phase=0),\n",
       " Row(userId='30', firstname='Colin', ts=1539280865000, page='Roll Advert', level='free', phase=0),\n",
       " Row(userId='30', firstname='Colin', ts=1539280873000, page='Roll Advert', level='free', phase=0),\n",
       " Row(userId='30', firstname='Colin', ts=1539295537000, page='NextSong', level='free', phase=0),\n",
       " Row(userId='30', firstname='Colin', ts=1539295687000, page='NextSong', level='free', phase=0),\n",
       " Row(userId='30', firstname='Colin', ts=1539295921000, page='NextSong', level='free', phase=0),\n",
       " Row(userId='30', firstname='Colin', ts=1539296099000, page='NextSong', level='free', phase=0),\n",
       " Row(userId='30', firstname='Colin', ts=1539296131000, page='Roll Advert', level='free', phase=0),\n",
       " Row(userId='30', firstname='Colin', ts=1539296336000, page='NextSong', level='free', phase=0),\n",
       " Row(userId='30', firstname='Colin', ts=1539296594000, page='NextSong', level='free', phase=0),\n",
       " Row(userId='30', firstname='Colin', ts=1539296795000, page='NextSong', level='free', phase=0),\n",
       " Row(userId='30', firstname='Colin', ts=1539296796000, page='Thumbs Up', level='free', phase=0),\n",
       " Row(userId='30', firstname='Colin', ts=1539297021000, page='NextSong', level='free', phase=0),\n",
       " Row(userId='30', firstname='Colin', ts=1539297304000, page='NextSong', level='free', phase=0),\n",
       " Row(userId='30', firstname='Colin', ts=1539297491000, page='NextSong', level='free', phase=0),\n",
       " Row(userId='30', firstname='Colin', ts=1539297690000, page='NextSong', level='free', phase=0),\n",
       " Row(userId='30', firstname='Colin', ts=1539297701000, page='Roll Advert', level='free', phase=0),\n",
       " Row(userId='30', firstname='Colin', ts=1539298037000, page='NextSong', level='free', phase=0),\n",
       " Row(userId='30', firstname='Colin', ts=1539298205000, page='NextSong', level='free', phase=0),\n",
       " Row(userId='30', firstname='Colin', ts=1539298417000, page='NextSong', level='free', phase=0),\n",
       " Row(userId='30', firstname='Colin', ts=1539298608000, page='NextSong', level='free', phase=0),\n",
       " Row(userId='30', firstname='Colin', ts=1539298965000, page='NextSong', level='free', phase=0),\n",
       " Row(userId='30', firstname='Colin', ts=1539298966000, page='Thumbs Up', level='free', phase=0),\n",
       " Row(userId='30', firstname='Colin', ts=1539299301000, page='NextSong', level='free', phase=0),\n",
       " Row(userId='30', firstname='Colin', ts=1539299538000, page='NextSong', level='free', phase=0),\n",
       " Row(userId='30', firstname='Colin', ts=1539299650000, page='NextSong', level='free', phase=0),\n",
       " Row(userId='30', firstname='Colin', ts=1539299863000, page='NextSong', level='free', phase=0),\n",
       " Row(userId='30', firstname='Colin', ts=1539300139000, page='NextSong', level='free', phase=0),\n",
       " Row(userId='30', firstname='Colin', ts=1539300506000, page='NextSong', level='free', phase=0),\n",
       " Row(userId='30', firstname='Colin', ts=1539300790000, page='NextSong', level='free', phase=0),\n",
       " Row(userId='30', firstname='Colin', ts=1539300791000, page='Thumbs Up', level='free', phase=0),\n",
       " Row(userId='30', firstname='Colin', ts=1539301067000, page='NextSong', level='free', phase=0),\n",
       " Row(userId='30', firstname='Colin', ts=1539301073000, page='Upgrade', level='free', phase=0),\n",
       " Row(userId='30', firstname='Colin', ts=1539301490000, page='NextSong', level='free', phase=0),\n",
       " Row(userId='30', firstname='Colin', ts=1539301491000, page='Logout', level='free', phase=0),\n",
       " Row(userId='30', firstname='Colin', ts=1539615637000, page='Home', level='free', phase=0),\n",
       " Row(userId='30', firstname='Colin', ts=1539615678000, page='NextSong', level='free', phase=0),\n",
       " Row(userId='30', firstname='Colin', ts=1539615704000, page='Add to Playlist', level='free', phase=0),\n",
       " Row(userId='30', firstname='Colin', ts=1539615872000, page='NextSong', level='free', phase=0),\n",
       " Row(userId='30', firstname='Colin', ts=1539616019000, page='NextSong', level='free', phase=0),\n",
       " Row(userId='30', firstname='Colin', ts=1539616193000, page='NextSong', level='free', phase=0),\n",
       " Row(userId='30', firstname='Colin', ts=1539616464000, page='NextSong', level='free', phase=0),\n",
       " Row(userId='30', firstname='Colin', ts=1539616703000, page='NextSong', level='free', phase=0),\n",
       " Row(userId='30', firstname='Colin', ts=1539616926000, page='NextSong', level='free', phase=0),\n",
       " Row(userId='30', firstname='Colin', ts=1539617108000, page='NextSong', level='free', phase=0),\n",
       " Row(userId='30', firstname='Colin', ts=1539617340000, page='NextSong', level='free', phase=0),\n",
       " Row(userId='30', firstname='Colin', ts=1539617558000, page='NextSong', level='free', phase=0),\n",
       " Row(userId='30', firstname='Colin', ts=1539617817000, page='NextSong', level='free', phase=0),\n",
       " Row(userId='30', firstname='Colin', ts=1539617871000, page='Roll Advert', level='free', phase=0),\n",
       " Row(userId='30', firstname='Colin', ts=1539618035000, page='NextSong', level='free', phase=0),\n",
       " Row(userId='30', firstname='Colin', ts=1539618207000, page='NextSong', level='free', phase=0),\n",
       " Row(userId='30', firstname='Colin', ts=1539618210000, page='Home', level='free', phase=0),\n",
       " Row(userId='30', firstname='Colin', ts=1539618576000, page='NextSong', level='free', phase=0),\n",
       " Row(userId='30', firstname='Colin', ts=1539618794000, page='NextSong', level='free', phase=0),\n",
       " Row(userId='30', firstname='Colin', ts=1539619107000, page='NextSong', level='free', phase=0),\n",
       " Row(userId='30', firstname='Colin', ts=1539619321000, page='NextSong', level='free', phase=0),\n",
       " Row(userId='30', firstname='Colin', ts=1539619461000, page='NextSong', level='free', phase=0),\n",
       " Row(userId='30', firstname='Colin', ts=1539619819000, page='NextSong', level='free', phase=0),\n",
       " Row(userId='30', firstname='Colin', ts=1539619820000, page='Thumbs Up', level='free', phase=0),\n",
       " Row(userId='30', firstname='Colin', ts=1539620003000, page='NextSong', level='free', phase=0),\n",
       " Row(userId='30', firstname='Colin', ts=1539620242000, page='NextSong', level='free', phase=0),\n",
       " Row(userId='30', firstname='Colin', ts=1539620475000, page='NextSong', level='free', phase=0),\n",
       " Row(userId='30', firstname='Colin', ts=1539620823000, page='NextSong', level='free', phase=0),\n",
       " Row(userId='30', firstname='Colin', ts=1539620841000, page='Roll Advert', level='free', phase=0),\n",
       " Row(userId='30', firstname='Colin', ts=1539620842000, page='Logout', level='free', phase=0),\n",
       " Row(userId='30', firstname='Colin', ts=1539620843000, page='Home', level='free', phase=0),\n",
       " Row(userId='30', firstname='Colin', ts=1539621014000, page='NextSong', level='free', phase=0),\n",
       " Row(userId='30', firstname='Colin', ts=1539621224000, page='NextSong', level='free', phase=0),\n",
       " Row(userId='30', firstname='Colin', ts=1539621448000, page='NextSong', level='free', phase=0),\n",
       " Row(userId='30', firstname='Colin', ts=1539621468000, page='Roll Advert', level='free', phase=0),\n",
       " Row(userId='30', firstname='Colin', ts=1539621525000, page='Roll Advert', level='free', phase=0),\n",
       " Row(userId='30', firstname='Colin', ts=1539621677000, page='NextSong', level='free', phase=0),\n",
       " Row(userId='30', firstname='Colin', ts=1539621922000, page='NextSong', level='free', phase=0),\n",
       " Row(userId='30', firstname='Colin', ts=1539622195000, page='NextSong', level='free', phase=0),\n",
       " Row(userId='30', firstname='Colin', ts=1539622196000, page='Thumbs Up', level='free', phase=0),\n",
       " Row(userId='30', firstname='Colin', ts=1539622379000, page='NextSong', level='free', phase=0),\n",
       " Row(userId='30', firstname='Colin', ts=1539622580000, page='NextSong', level='free', phase=0),\n",
       " Row(userId='30', firstname='Colin', ts=1539622807000, page='NextSong', level='free', phase=0),\n",
       " Row(userId='30', firstname='Colin', ts=1539623024000, page='NextSong', level='free', phase=0),\n",
       " Row(userId='30', firstname='Colin', ts=1539623176000, page='NextSong', level='free', phase=0),\n",
       " Row(userId='30', firstname='Colin', ts=1539623471000, page='NextSong', level='free', phase=0),\n",
       " Row(userId='30', firstname='Colin', ts=1539624022000, page='NextSong', level='free', phase=0),\n",
       " Row(userId='30', firstname='Colin', ts=1539624190000, page='NextSong', level='free', phase=0),\n",
       " Row(userId='30', firstname='Colin', ts=1539624635000, page='NextSong', level='free', phase=0),\n",
       " Row(userId='30', firstname='Colin', ts=1539625095000, page='NextSong', level='free', phase=0),\n",
       " Row(userId='30', firstname='Colin', ts=1539625118000, page='Roll Advert', level='free', phase=0),\n",
       " Row(userId='30', firstname='Colin', ts=1539625362000, page='NextSong', level='free', phase=0),\n",
       " Row(userId='30', firstname='Colin', ts=1539625628000, page='NextSong', level='free', phase=0),\n",
       " Row(userId='30', firstname='Colin', ts=1539625638000, page='Add to Playlist', level='free', phase=0),\n",
       " Row(userId='30', firstname='Colin', ts=1539625896000, page='NextSong', level='free', phase=0),\n",
       " Row(userId='30', firstname='Colin', ts=1539626191000, page='NextSong', level='free', phase=0),\n",
       " Row(userId='30', firstname='Colin', ts=1539626391000, page='NextSong', level='free', phase=0),\n",
       " Row(userId='30', firstname='Colin', ts=1539626544000, page='NextSong', level='free', phase=0),\n",
       " Row(userId='30', firstname='Colin', ts=1539626970000, page='NextSong', level='free', phase=0),\n",
       " Row(userId='30', firstname='Colin', ts=1539626977000, page='Add to Playlist', level='free', phase=0),\n",
       " Row(userId='30', firstname='Colin', ts=1539627479000, page='NextSong', level='free', phase=0),\n",
       " Row(userId='30', firstname='Colin', ts=1539627836000, page='NextSong', level='free', phase=0),\n",
       " Row(userId='30', firstname='Colin', ts=1539628056000, page='NextSong', level='free', phase=0),\n",
       " Row(userId='30', firstname='Colin', ts=1539628057000, page='Thumbs Up', level='free', phase=0),\n",
       " Row(userId='30', firstname='Colin', ts=1539628209000, page='NextSong', level='free', phase=0),\n",
       " Row(userId='30', firstname='Colin', ts=1539628414000, page='NextSong', level='free', phase=0),\n",
       " Row(userId='30', firstname='Colin', ts=1539628619000, page='NextSong', level='free', phase=0),\n",
       " Row(userId='30', firstname='Colin', ts=1539628620000, page='Logout', level='free', phase=0),\n",
       " Row(userId='30', firstname='Colin', ts=1539628843000, page='Home', level='free', phase=0),\n",
       " Row(userId='30', firstname='Colin', ts=1539628852000, page='NextSong', level='free', phase=0),\n",
       " Row(userId='30', firstname='Colin', ts=1539629132000, page='NextSong', level='free', phase=0),\n",
       " Row(userId='30', firstname='Colin', ts=1539629166000, page='Help', level='free', phase=0),\n",
       " Row(userId='30', firstname='Colin', ts=1539629443000, page='NextSong', level='free', phase=0),\n",
       " Row(userId='30', firstname='Colin', ts=1539629826000, page='NextSong', level='free', phase=0),\n",
       " Row(userId='30', firstname='Colin', ts=1539629830000, page='Home', level='free', phase=0),\n",
       " Row(userId='30', firstname='Colin', ts=1539629831000, page='Add Friend', level='free', phase=0),\n",
       " Row(userId='30', firstname='Colin', ts=1539629845000, page='Settings', level='free', phase=0),\n",
       " Row(userId='30', firstname='Colin', ts=1539731438000, page='Home', level='free', phase=0),\n",
       " Row(userId='30', firstname='Colin', ts=1539731439000, page='Logout', level='free', phase=0),\n",
       " Row(userId='30', firstname='Colin', ts=1540070969000, page='Home', level='free', phase=0),\n",
       " Row(userId='30', firstname='Colin', ts=1540268084000, page='NextSong', level='free', phase=0),\n",
       " Row(userId='30', firstname='Colin', ts=1540268509000, page='NextSong', level='free', phase=0),\n",
       " Row(userId='30', firstname='Colin', ts=1540268905000, page='NextSong', level='free', phase=0),\n",
       " Row(userId='30', firstname='Colin', ts=1540269124000, page='NextSong', level='free', phase=0),\n",
       " Row(userId='30', firstname='Colin', ts=1540269342000, page='NextSong', level='free', phase=0),\n",
       " Row(userId='30', firstname='Colin', ts=1540269519000, page='NextSong', level='free', phase=0),\n",
       " Row(userId='30', firstname='Colin', ts=1540269856000, page='NextSong', level='free', phase=0),\n",
       " Row(userId='30', firstname='Colin', ts=1540270093000, page='NextSong', level='free', phase=0),\n",
       " Row(userId='30', firstname='Colin', ts=1540270415000, page='NextSong', level='free', phase=0),\n",
       " Row(userId='30', firstname='Colin', ts=1540270667000, page='NextSong', level='free', phase=0),\n",
       " Row(userId='30', firstname='Colin', ts=1540270895000, page='NextSong', level='free', phase=0),\n",
       " Row(userId='30', firstname='Colin', ts=1540271283000, page='NextSong', level='free', phase=0),\n",
       " Row(userId='30', firstname='Colin', ts=1540271574000, page='NextSong', level='free', phase=0),\n",
       " Row(userId='30', firstname='Colin', ts=1540271754000, page='NextSong', level='free', phase=0),\n",
       " Row(userId='30', firstname='Colin', ts=1540271765000, page='Add to Playlist', level='free', phase=0),\n",
       " Row(userId='30', firstname='Colin', ts=1540271974000, page='NextSong', level='free', phase=0),\n",
       " Row(userId='30', firstname='Colin', ts=1540272149000, page='NextSong', level='free', phase=0),\n",
       " Row(userId='30', firstname='Colin', ts=1540272357000, page='NextSong', level='free', phase=0),\n",
       " Row(userId='30', firstname='Colin', ts=1540272601000, page='NextSong', level='free', phase=0),\n",
       " Row(userId='30', firstname='Colin', ts=1540272878000, page='NextSong', level='free', phase=0),\n",
       " Row(userId='30', firstname='Colin', ts=1540272903000, page='Roll Advert', level='free', phase=0),\n",
       " Row(userId='30', firstname='Colin', ts=1540273275000, page='NextSong', level='free', phase=0),\n",
       " Row(userId='30', firstname='Colin', ts=1540273490000, page='NextSong', level='free', phase=0),\n",
       " Row(userId='30', firstname='Colin', ts=1540273497000, page='Add to Playlist', level='free', phase=0),\n",
       " Row(userId='30', firstname='Colin', ts=1540273708000, page='NextSong', level='free', phase=0),\n",
       " Row(userId='30', firstname='Colin', ts=1540273724000, page='Roll Advert', level='free', phase=0),\n",
       " Row(userId='30', firstname='Colin', ts=1540273892000, page='NextSong', level='free', phase=0),\n",
       " Row(userId='30', firstname='Colin', ts=1540273893000, page='Thumbs Down', level='free', phase=0),\n",
       " Row(userId='30', firstname='Colin', ts=1540274114000, page='NextSong', level='free', phase=0),\n",
       " Row(userId='30', firstname='Colin', ts=1540274147000, page='Roll Advert', level='free', phase=0),\n",
       " Row(userId='30', firstname='Colin', ts=1540274345000, page='NextSong', level='free', phase=0),\n",
       " Row(userId='30', firstname='Colin', ts=1540549210000, page='NextSong', level='free', phase=0),\n",
       " Row(userId='30', firstname='Colin', ts=1540549423000, page='NextSong', level='free', phase=0),\n",
       " Row(userId='30', firstname='Colin', ts=1540549424000, page='Thumbs Up', level='free', phase=0),\n",
       " Row(userId='30', firstname='Colin', ts=1540549587000, page='NextSong', level='free', phase=0),\n",
       " Row(userId='30', firstname='Colin', ts=1540549777000, page='NextSong', level='free', phase=0),\n",
       " Row(userId='30', firstname='Colin', ts=1540549897000, page='Home', level='free', phase=0),\n",
       " Row(userId='30', firstname='Colin', ts=1540550054000, page='NextSong', level='free', phase=0),\n",
       " Row(userId='30', firstname='Colin', ts=1540550632000, page='NextSong', level='free', phase=0),\n",
       " Row(userId='30', firstname='Colin', ts=1540550953000, page='NextSong', level='free', phase=0),\n",
       " Row(userId='30', firstname='Colin', ts=1540551209000, page='NextSong', level='free', phase=0),\n",
       " Row(userId='30', firstname='Colin', ts=1540551210000, page='Thumbs Up', level='free', phase=0),\n",
       " Row(userId='30', firstname='Colin', ts=1540551382000, page='NextSong', level='free', phase=0),\n",
       " Row(userId='30', firstname='Colin', ts=1540551589000, page='NextSong', level='free', phase=0),\n",
       " Row(userId='30', firstname='Colin', ts=1540551723000, page='NextSong', level='free', phase=0),\n",
       " Row(userId='30', firstname='Colin', ts=1540552003000, page='NextSong', level='free', phase=0),\n",
       " Row(userId='30', firstname='Colin', ts=1540552336000, page='NextSong', level='free', phase=0),\n",
       " Row(userId='30', firstname='Colin', ts=1540552616000, page='NextSong', level='free', phase=0),\n",
       " Row(userId='30', firstname='Colin', ts=1540552798000, page='NextSong', level='free', phase=0),\n",
       " Row(userId='30', firstname='Colin', ts=1540553040000, page='NextSong', level='free', phase=0),\n",
       " Row(userId='30', firstname='Colin', ts=1540553221000, page='NextSong', level='free', phase=0),\n",
       " Row(userId='30', firstname='Colin', ts=1540553391000, page='NextSong', level='free', phase=0),\n",
       " Row(userId='30', firstname='Colin', ts=1540553639000, page='NextSong', level='free', phase=0),\n",
       " Row(userId='30', firstname='Colin', ts=1540553841000, page='NextSong', level='free', phase=0),\n",
       " Row(userId='30', firstname='Colin', ts=1540554075000, page='NextSong', level='free', phase=0),\n",
       " Row(userId='30', firstname='Colin', ts=1540554078000, page='Settings', level='free', phase=0),\n",
       " Row(userId='30', firstname='Colin', ts=1540554310000, page='NextSong', level='free', phase=0),\n",
       " Row(userId='30', firstname='Colin', ts=1540554315000, page='Roll Advert', level='free', phase=0),\n",
       " Row(userId='30', firstname='Colin', ts=1540554435000, page='NextSong', level='free', phase=0),\n",
       " Row(userId='30', firstname='Colin', ts=1540554721000, page='NextSong', level='free', phase=0),\n",
       " Row(userId='30', firstname='Colin', ts=1540555327000, page='NextSong', level='free', phase=0),\n",
       " Row(userId='30', firstname='Colin', ts=1540555328000, page='Add Friend', level='free', phase=0),\n",
       " Row(userId='30', firstname='Colin', ts=1540555527000, page='NextSong', level='free', phase=0),\n",
       " Row(userId='30', firstname='Colin', ts=1540555745000, page='NextSong', level='free', phase=0),\n",
       " Row(userId='30', firstname='Colin', ts=1540568189000, page='NextSong', level='free', phase=0),\n",
       " Row(userId='30', firstname='Colin', ts=1540568269000, page='NextSong', level='free', phase=0),\n",
       " Row(userId='30', firstname='Colin', ts=1540568476000, page='NextSong', level='free', phase=0),\n",
       " Row(userId='30', firstname='Colin', ts=1540652942000, page='NextSong', level='free', phase=0),\n",
       " Row(userId='30', firstname='Colin', ts=1540653229000, page='NextSong', level='free', phase=0),\n",
       " Row(userId='30', firstname='Colin', ts=1540653230000, page='Thumbs Down', level='free', phase=0),\n",
       " Row(userId='30', firstname='Colin', ts=1540653473000, page='NextSong', level='free', phase=0),\n",
       " Row(userId='30', firstname='Colin', ts=1540653657000, page='NextSong', level='free', phase=0),\n",
       " Row(userId='30', firstname='Colin', ts=1540653995000, page='NextSong', level='free', phase=0),\n",
       " Row(userId='30', firstname='Colin', ts=1540654207000, page='NextSong', level='free', phase=0),\n",
       " Row(userId='30', firstname='Colin', ts=1540654469000, page='NextSong', level='free', phase=0),\n",
       " Row(userId='30', firstname='Colin', ts=1540654629000, page='NextSong', level='free', phase=0),\n",
       " Row(userId='30', firstname='Colin', ts=1540654766000, page='NextSong', level='free', phase=0),\n",
       " Row(userId='30', firstname='Colin', ts=1540654790000, page='Roll Advert', level='free', phase=0),\n",
       " Row(userId='30', firstname='Colin', ts=1540655287000, page='NextSong', level='free', phase=0),\n",
       " Row(userId='30', firstname='Colin', ts=1540655793000, page='NextSong', level='free', phase=0),\n",
       " Row(userId='30', firstname='Colin', ts=1540655973000, page='NextSong', level='free', phase=0),\n",
       " Row(userId='30', firstname='Colin', ts=1540656011000, page='Roll Advert', level='free', phase=0),\n",
       " Row(userId='30', firstname='Colin', ts=1540656404000, page='NextSong', level='free', phase=0),\n",
       " Row(userId='30', firstname='Colin', ts=1540657059000, page='NextSong', level='free', phase=0),\n",
       " Row(userId='30', firstname='Colin', ts=1540657103000, page='Roll Advert', level='free', phase=0),\n",
       " Row(userId='30', firstname='Colin', ts=1540657366000, page='NextSong', level='free', phase=0),\n",
       " Row(userId='30', firstname='Colin', ts=1540657586000, page='NextSong', level='free', phase=0),\n",
       " Row(userId='30', firstname='Colin', ts=1540657817000, page='NextSong', level='free', phase=0),\n",
       " Row(userId='30', firstname='Colin', ts=1540658327000, page='NextSong', level='free', phase=0),\n",
       " Row(userId='30', firstname='Colin', ts=1540658713000, page='NextSong', level='free', phase=0),\n",
       " Row(userId='30', firstname='Colin', ts=1540658715000, page='Home', level='free', phase=0),\n",
       " Row(userId='30', firstname='Colin', ts=1540658941000, page='NextSong', level='free', phase=0),\n",
       " Row(userId='30', firstname='Colin', ts=1540658966000, page='Roll Advert', level='free', phase=0),\n",
       " Row(userId='30', firstname='Colin', ts=1540659127000, page='NextSong', level='free', phase=0),\n",
       " Row(userId='30', firstname='Colin', ts=1540659379000, page='NextSong', level='free', phase=0),\n",
       " Row(userId='30', firstname='Colin', ts=1540659631000, page='NextSong', level='free', phase=0),\n",
       " Row(userId='30', firstname='Colin', ts=1540659661000, page='Add to Playlist', level='free', phase=0),\n",
       " Row(userId='30', firstname='Colin', ts=1540659836000, page='NextSong', level='free', phase=0),\n",
       " Row(userId='30', firstname='Colin', ts=1540660086000, page='NextSong', level='free', phase=0),\n",
       " Row(userId='30', firstname='Colin', ts=1540660303000, page='NextSong', level='free', phase=0),\n",
       " Row(userId='30', firstname='Colin', ts=1540660592000, page='NextSong', level='free', phase=0),\n",
       " Row(userId='30', firstname='Colin', ts=1540660818000, page='NextSong', level='free', phase=0),\n",
       " Row(userId='30', firstname='Colin', ts=1540660819000, page='Logout', level='free', phase=0),\n",
       " Row(userId='30', firstname='Colin', ts=1540660921000, page='Home', level='free', phase=0),\n",
       " Row(userId='30', firstname='Colin', ts=1540661019000, page='NextSong', level='free', phase=0),\n",
       " Row(userId='30', firstname='Colin', ts=1540661340000, page='NextSong', level='free', phase=0),\n",
       " Row(userId='30', firstname='Colin', ts=1540661695000, page='NextSong', level='free', phase=0),\n",
       " Row(userId='30', firstname='Colin', ts=1540661826000, page='NextSong', level='free', phase=0),\n",
       " Row(userId='30', firstname='Colin', ts=1540662067000, page='NextSong', level='free', phase=0),\n",
       " Row(userId='30', firstname='Colin', ts=1540662083000, page='Settings', level='free', phase=0),\n",
       " Row(userId='30', firstname='Colin', ts=1540662244000, page='NextSong', level='free', phase=0),\n",
       " Row(userId='30', firstname='Colin', ts=1540662538000, page='NextSong', level='free', phase=0),\n",
       " Row(userId='30', firstname='Colin', ts=1540662539000, page='Roll Advert', level='free', phase=0),\n",
       " Row(userId='30', firstname='Colin', ts=1540662752000, page='NextSong', level='free', phase=0),\n",
       " Row(userId='30', firstname='Colin', ts=1540662944000, page='NextSong', level='free', phase=0),\n",
       " Row(userId='30', firstname='Colin', ts=1540663185000, page='NextSong', level='free', phase=0),\n",
       " Row(userId='30', firstname='Colin', ts=1540663662000, page='NextSong', level='free', phase=0),\n",
       " Row(userId='30', firstname='Colin', ts=1540663896000, page='NextSong', level='free', phase=0),\n",
       " Row(userId='30', firstname='Colin', ts=1540663929000, page='Settings', level='free', phase=0),\n",
       " Row(userId='30', firstname='Colin', ts=1540664072000, page='NextSong', level='free', phase=0),\n",
       " Row(userId='30', firstname='Colin', ts=1540664328000, page='NextSong', level='free', phase=0),\n",
       " Row(userId='30', firstname='Colin', ts=1540664393000, page='NextSong', level='free', phase=0),\n",
       " Row(userId='30', firstname='Colin', ts=1540664698000, page='NextSong', level='free', phase=0),\n",
       " Row(userId='30', firstname='Colin', ts=1540664958000, page='NextSong', level='free', phase=0),\n",
       " Row(userId='30', firstname='Colin', ts=1540665163000, page='NextSong', level='free', phase=0),\n",
       " Row(userId='30', firstname='Colin', ts=1540665390000, page='NextSong', level='free', phase=0),\n",
       " Row(userId='30', firstname='Colin', ts=1540665706000, page='NextSong', level='free', phase=0),\n",
       " Row(userId='30', firstname='Colin', ts=1540988569000, page='NextSong', level='free', phase=0),\n",
       " Row(userId='30', firstname='Colin', ts=1540988576000, page='Roll Advert', level='free', phase=0),\n",
       " Row(userId='30', firstname='Colin', ts=1540989224000, page='NextSong', level='free', phase=0),\n",
       " Row(userId='30', firstname='Colin', ts=1540989488000, page='NextSong', level='free', phase=0),\n",
       " Row(userId='30', firstname='Colin', ts=1540989510000, page='NextSong', level='free', phase=0),\n",
       " Row(userId='30', firstname='Colin', ts=1540989775000, page='NextSong', level='free', phase=0),\n",
       " Row(userId='30', firstname='Colin', ts=1540989776000, page='Thumbs Up', level='free', phase=0),\n",
       " Row(userId='30', firstname='Colin', ts=1540989791000, page='Add to Playlist', level='free', phase=0),\n",
       " Row(userId='30', firstname='Colin', ts=1540990073000, page='NextSong', level='free', phase=0),\n",
       " Row(userId='30', firstname='Colin', ts=1540990323000, page='NextSong', level='free', phase=0),\n",
       " Row(userId='30', firstname='Colin', ts=1540990504000, page='NextSong', level='free', phase=0),\n",
       " Row(userId='30', firstname='Colin', ts=1540990549000, page='NextSong', level='free', phase=0),\n",
       " Row(userId='30', firstname='Colin', ts=1540990826000, page='NextSong', level='free', phase=0),\n",
       " Row(userId='30', firstname='Colin', ts=1540990827000, page='Logout', level='free', phase=0),\n",
       " Row(userId='30', firstname='Colin', ts=1540990864000, page='Home', level='free', phase=0),\n",
       " Row(userId='30', firstname='Colin', ts=1540991077000, page='NextSong', level='free', phase=0),\n",
       " Row(userId='30', firstname='Colin', ts=1540991232000, page='NextSong', level='free', phase=0),\n",
       " Row(userId='30', firstname='Colin', ts=1540991472000, page='NextSong', level='free', phase=0),\n",
       " Row(userId='30', firstname='Colin', ts=1540991705000, page='NextSong', level='free', phase=0),\n",
       " Row(userId='30', firstname='Colin', ts=1540991831000, page='NextSong', level='free', phase=0),\n",
       " Row(userId='30', firstname='Colin', ts=1540991842000, page='Roll Advert', level='free', phase=0),\n",
       " Row(userId='30', firstname='Colin', ts=1540992142000, page='NextSong', level='free', phase=0),\n",
       " Row(userId='30', firstname='Colin', ts=1540992218000, page='Roll Advert', level='free', phase=0),\n",
       " Row(userId='30', firstname='Colin', ts=1540992321000, page='NextSong', level='free', phase=0),\n",
       " Row(userId='30', firstname='Colin', ts=1540992567000, page='NextSong', level='free', phase=0),\n",
       " Row(userId='30', firstname='Colin', ts=1540992878000, page='NextSong', level='free', phase=0),\n",
       " Row(userId='30', firstname='Colin', ts=1540993123000, page='NextSong', level='free', phase=0),\n",
       " Row(userId='30', firstname='Colin', ts=1540993378000, page='NextSong', level='free', phase=0),\n",
       " Row(userId='30', firstname='Colin', ts=1540993615000, page='NextSong', level='free', phase=0),\n",
       " Row(userId='30', firstname='Colin', ts=1540993621000, page='Upgrade', level='free', phase=0),\n",
       " Row(userId='30', firstname='Colin', ts=1540993622000, page='Add Friend', level='free', phase=0),\n",
       " Row(userId='30', firstname='Colin', ts=1540993705000, page='About', level='free', phase=0),\n",
       " Row(userId='30', firstname='Colin', ts=1540993816000, page='NextSong', level='free', phase=0),\n",
       " Row(userId='30', firstname='Colin', ts=1540994033000, page='NextSong', level='free', phase=0),\n",
       " Row(userId='30', firstname='Colin', ts=1540994381000, page='NextSong', level='free', phase=0),\n",
       " Row(userId='30', firstname='Colin', ts=1540994382000, page='Thumbs Up', level='free', phase=0),\n",
       " Row(userId='30', firstname='Colin', ts=1540994539000, page='NextSong', level='free', phase=0),\n",
       " Row(userId='30', firstname='Colin', ts=1540994735000, page='NextSong', level='free', phase=0),\n",
       " Row(userId='30', firstname='Colin', ts=1540994929000, page='NextSong', level='free', phase=0),\n",
       " Row(userId='30', firstname='Colin', ts=1540995263000, page='NextSong', level='free', phase=0),\n",
       " Row(userId='30', firstname='Colin', ts=1540995277000, page='Home', level='free', phase=0),\n",
       " Row(userId='30', firstname='Colin', ts=1540995918000, page='NextSong', level='free', phase=0),\n",
       " Row(userId='30', firstname='Colin', ts=1540995999000, page='NextSong', level='free', phase=0),\n",
       " Row(userId='30', firstname='Colin', ts=1540996000000, page='Thumbs Up', level='free', phase=0),\n",
       " Row(userId='30', firstname='Colin', ts=1540996336000, page='NextSong', level='free', phase=0),\n",
       " Row(userId='30', firstname='Colin', ts=1540996648000, page='NextSong', level='free', phase=0),\n",
       " Row(userId='30', firstname='Colin', ts=1540996984000, page='NextSong', level='free', phase=0),\n",
       " Row(userId='30', firstname='Colin', ts=1540997191000, page='NextSong', level='free', phase=0),\n",
       " Row(userId='30', firstname='Colin', ts=1540997415000, page='NextSong', level='free', phase=0),\n",
       " Row(userId='30', firstname='Colin', ts=1540997577000, page='NextSong', level='free', phase=0),\n",
       " Row(userId='30', firstname='Colin', ts=1540997816000, page='NextSong', level='free', phase=0),\n",
       " Row(userId='30', firstname='Colin', ts=1540998331000, page='NextSong', level='free', phase=0),\n",
       " Row(userId='30', firstname='Colin', ts=1540998570000, page='NextSong', level='free', phase=0),\n",
       " Row(userId='30', firstname='Colin', ts=1540998766000, page='NextSong', level='free', phase=0),\n",
       " Row(userId='30', firstname='Colin', ts=1540999056000, page='NextSong', level='free', phase=0),\n",
       " Row(userId='30', firstname='Colin', ts=1540999375000, page='NextSong', level='free', phase=0),\n",
       " Row(userId='30', firstname='Colin', ts=1540999587000, page='NextSong', level='free', phase=0),\n",
       " Row(userId='30', firstname='Colin', ts=1540999812000, page='NextSong', level='free', phase=0),\n",
       " Row(userId='30', firstname='Colin', ts=1541000072000, page='NextSong', level='free', phase=0),\n",
       " Row(userId='30', firstname='Colin', ts=1541000367000, page='NextSong', level='free', phase=0),\n",
       " Row(userId='30', firstname='Colin', ts=1541000528000, page='NextSong', level='free', phase=0),\n",
       " Row(userId='30', firstname='Colin', ts=1541000594000, page='Roll Advert', level='free', phase=0),\n",
       " Row(userId='30', firstname='Colin', ts=1541000604000, page='Roll Advert', level='free', phase=0),\n",
       " Row(userId='30', firstname='Colin', ts=1541000799000, page='NextSong', level='free', phase=0),\n",
       " Row(userId='30', firstname='Colin', ts=1541000982000, page='NextSong', level='free', phase=0),\n",
       " Row(userId='30', firstname='Colin', ts=1541001183000, page='NextSong', level='free', phase=0),\n",
       " Row(userId='30', firstname='Colin', ts=1541001436000, page='NextSong', level='free', phase=0),\n",
       " Row(userId='30', firstname='Colin', ts=1541001797000, page='NextSong', level='free', phase=0),\n",
       " Row(userId='30', firstname='Colin', ts=1541001815000, page='Roll Advert', level='free', phase=0),\n",
       " Row(userId='30', firstname='Colin', ts=1541002054000, page='NextSong', level='free', phase=0),\n",
       " Row(userId='30', firstname='Colin', ts=1541002303000, page='NextSong', level='free', phase=0),\n",
       " Row(userId='30', firstname='Colin', ts=1541002480000, page='NextSong', level='free', phase=0),\n",
       " Row(userId='30', firstname='Colin', ts=1541002706000, page='NextSong', level='free', phase=0),\n",
       " Row(userId='30', firstname='Colin', ts=1541002981000, page='NextSong', level='free', phase=0),\n",
       " Row(userId='30', firstname='Colin', ts=1541003324000, page='NextSong', level='free', phase=0),\n",
       " Row(userId='30', firstname='Colin', ts=1541003609000, page='NextSong', level='free', phase=0),\n",
       " Row(userId='30', firstname='Colin', ts=1541003713000, page='NextSong', level='free', phase=0),\n",
       " Row(userId='30', firstname='Colin', ts=1541003885000, page='NextSong', level='free', phase=0),\n",
       " Row(userId='30', firstname='Colin', ts=1541004028000, page='NextSong', level='free', phase=0),\n",
       " Row(userId='30', firstname='Colin', ts=1541004043000, page='Upgrade', level='free', phase=0),\n",
       " Row(userId='30', firstname='Colin', ts=1541004239000, page='NextSong', level='free', phase=0),\n",
       " Row(userId='30', firstname='Colin', ts=1541004530000, page='NextSong', level='free', phase=0),\n",
       " Row(userId='30', firstname='Colin', ts=1541004772000, page='NextSong', level='free', phase=0),\n",
       " Row(userId='30', firstname='Colin', ts=1541005041000, page='NextSong', level='free', phase=0),\n",
       " Row(userId='30', firstname='Colin', ts=1541005273000, page='NextSong', level='free', phase=0),\n",
       " Row(userId='30', firstname='Colin', ts=1541006089000, page='NextSong', level='free', phase=0),\n",
       " Row(userId='30', firstname='Colin', ts=1541006385000, page='NextSong', level='free', phase=0),\n",
       " Row(userId='30', firstname='Colin', ts=1541006567000, page='NextSong', level='free', phase=0),\n",
       " Row(userId='30', firstname='Colin', ts=1541006767000, page='NextSong', level='free', phase=0),\n",
       " Row(userId='30', firstname='Colin', ts=1541006779000, page='Add to Playlist', level='free', phase=0),\n",
       " Row(userId='30', firstname='Colin', ts=1541006834000, page='NextSong', level='free', phase=0),\n",
       " Row(userId='30', firstname='Colin', ts=1541006835000, page='Thumbs Down', level='free', phase=0),\n",
       " Row(userId='30', firstname='Colin', ts=1541006995000, page='NextSong', level='free', phase=0),\n",
       " Row(userId='30', firstname='Colin', ts=1541006996000, page='Thumbs Up', level='free', phase=0),\n",
       " Row(userId='30', firstname='Colin', ts=1541007248000, page='NextSong', level='free', phase=0),\n",
       " Row(userId='30', firstname='Colin', ts=1541007451000, page='NextSong', level='free', phase=0),\n",
       " Row(userId='30', firstname='Colin', ts=1541007452000, page='Logout', level='free', phase=0),\n",
       " Row(userId='30', firstname='Colin', ts=1541007500000, page='Home', level='free', phase=0),\n",
       " Row(userId='30', firstname='Colin', ts=1541007762000, page='NextSong', level='free', phase=0),\n",
       " Row(userId='30', firstname='Colin', ts=1541008021000, page='NextSong', level='free', phase=0),\n",
       " Row(userId='30', firstname='Colin', ts=1541008314000, page='NextSong', level='free', phase=0),\n",
       " Row(userId='30', firstname='Colin', ts=1541008399000, page='NextSong', level='free', phase=0),\n",
       " Row(userId='30', firstname='Colin', ts=1541008794000, page='NextSong', level='free', phase=0),\n",
       " Row(userId='30', firstname='Colin', ts=1541008829000, page='Roll Advert', level='free', phase=0),\n",
       " Row(userId='30', firstname='Colin', ts=1541009029000, page='NextSong', level='free', phase=0),\n",
       " Row(userId='30', firstname='Colin', ts=1541009041000, page='Roll Advert', level='free', phase=0),\n",
       " Row(userId='30', firstname='Colin', ts=1541041139000, page='NextSong', level='free', phase=0),\n",
       " Row(userId='30', firstname='Colin', ts=1541041436000, page='NextSong', level='free', phase=0),\n",
       " Row(userId='30', firstname='Colin', ts=1541042091000, page='NextSong', level='free', phase=0),\n",
       " Row(userId='30', firstname='Colin', ts=1541042319000, page='NextSong', level='free', phase=0),\n",
       " Row(userId='30', firstname='Colin', ts=1541042532000, page='NextSong', level='free', phase=0),\n",
       " Row(userId='30', firstname='Colin', ts=1541042799000, page='NextSong', level='free', phase=0),\n",
       " Row(userId='30', firstname='Colin', ts=1541042983000, page='NextSong', level='free', phase=0),\n",
       " Row(userId='30', firstname='Colin', ts=1541043180000, page='NextSong', level='free', phase=0),\n",
       " Row(userId='30', firstname='Colin', ts=1541043464000, page='NextSong', level='free', phase=0),\n",
       " Row(userId='30', firstname='Colin', ts=1541043764000, page='NextSong', level='free', phase=0),\n",
       " Row(userId='30', firstname='Colin', ts=1541044017000, page='NextSong', level='free', phase=0),\n",
       " Row(userId='30', firstname='Colin', ts=1541044533000, page='NextSong', level='free', phase=0),\n",
       " Row(userId='30', firstname='Colin', ts=1541044713000, page='NextSong', level='free', phase=0),\n",
       " Row(userId='30', firstname='Colin', ts=1541044761000, page='Roll Advert', level='free', phase=0),\n",
       " Row(userId='30', firstname='Colin', ts=1541045012000, page='NextSong', level='free', phase=0),\n",
       " Row(userId='30', firstname='Colin', ts=1541045013000, page='Logout', level='free', phase=0),\n",
       " Row(userId='30', firstname='Colin', ts=1541045078000, page='Home', level='free', phase=0),\n",
       " Row(userId='30', firstname='Colin', ts=1541045327000, page='NextSong', level='free', phase=0),\n",
       " Row(userId='30', firstname='Colin', ts=1541045342000, page='Settings', level='free', phase=0),\n",
       " Row(userId='30', firstname='Colin', ts=1541045549000, page='NextSong', level='free', phase=0),\n",
       " Row(userId='30', firstname='Colin', ts=1541045846000, page='NextSong', level='free', phase=0),\n",
       " Row(userId='30', firstname='Colin', ts=1541046123000, page='NextSong', level='free', phase=0),\n",
       " Row(userId='30', firstname='Colin', ts=1541046316000, page='NextSong', level='free', phase=0),\n",
       " Row(userId='30', firstname='Colin', ts=1541046480000, page='NextSong', level='free', phase=0),\n",
       " Row(userId='30', firstname='Colin', ts=1541047038000, page='NextSong', level='free', phase=0),\n",
       " Row(userId='30', firstname='Colin', ts=1541047186000, page='NextSong', level='free', phase=0),\n",
       " Row(userId='30', firstname='Colin', ts=1541047238000, page='NextSong', level='free', phase=0),\n",
       " Row(userId='30', firstname='Colin', ts=1541047271000, page='Upgrade', level='free', phase=0),\n",
       " Row(userId='30', firstname='Colin', ts=1541047282000, page='Upgrade', level='free', phase=0),\n",
       " Row(userId='30', firstname='Colin', ts=1541047302000, page='NextSong', level='free', phase=0),\n",
       " Row(userId='30', firstname='Colin', ts=1541047303000, page='Thumbs Up', level='free', phase=0),\n",
       " Row(userId='30', firstname='Colin', ts=1541047546000, page='NextSong', level='free', phase=0),\n",
       " Row(userId='30', firstname='Colin', ts=1541047583000, page='Roll Advert', level='free', phase=0),\n",
       " Row(userId='30', firstname='Colin', ts=1541047594000, page='NextSong', level='free', phase=0),\n",
       " Row(userId='30', firstname='Colin', ts=1541047860000, page='NextSong', level='free', phase=0),\n",
       " Row(userId='30', firstname='Colin', ts=1541047894000, page='Help', level='free', phase=0),\n",
       " Row(userId='30', firstname='Colin', ts=1541047925000, page='Home', level='free', phase=0),\n",
       " Row(userId='30', firstname='Colin', ts=1541048045000, page='NextSong', level='free', phase=0),\n",
       " Row(userId='30', firstname='Colin', ts=1541048245000, page='NextSong', level='free', phase=0),\n",
       " Row(userId='30', firstname='Colin', ts=1541048424000, page='NextSong', level='free', phase=0),\n",
       " Row(userId='30', firstname='Colin', ts=1541048646000, page='NextSong', level='free', phase=0),\n",
       " Row(userId='30', firstname='Colin', ts=1541048755000, page='NextSong', level='free', phase=0),\n",
       " Row(userId='30', firstname='Colin', ts=1541048756000, page='Thumbs Up', level='free', phase=0),\n",
       " Row(userId='30', firstname='Colin', ts=1541048984000, page='NextSong', level='free', phase=0),\n",
       " Row(userId='30', firstname='Colin', ts=1541048991000, page='Roll Advert', level='free', phase=0),\n",
       " Row(userId='30', firstname='Colin', ts=1541049676000, page='NextSong', level='free', phase=0),\n",
       " Row(userId='30', firstname='Colin', ts=1541049982000, page='NextSong', level='free', phase=0),\n",
       " Row(userId='30', firstname='Colin', ts=1541049983000, page='Add Friend', level='free', phase=0),\n",
       " Row(userId='30', firstname='Colin', ts=1541050313000, page='NextSong', level='free', phase=0),\n",
       " Row(userId='30', firstname='Colin', ts=1541050554000, page='NextSong', level='free', phase=0),\n",
       " Row(userId='30', firstname='Colin', ts=1541050583000, page='Add to Playlist', level='free', phase=0),\n",
       " Row(userId='30', firstname='Colin', ts=1541050790000, page='NextSong', level='free', phase=0),\n",
       " Row(userId='30', firstname='Colin', ts=1541051029000, page='NextSong', level='free', phase=0),\n",
       " Row(userId='30', firstname='Colin', ts=1541051036000, page='Roll Advert', level='free', phase=0),\n",
       " Row(userId='30', firstname='Colin', ts=1541051262000, page='NextSong', level='free', phase=0),\n",
       " Row(userId='30', firstname='Colin', ts=1541051483000, page='NextSong', level='free', phase=0),\n",
       " Row(userId='30', firstname='Colin', ts=1541051707000, page='NextSong', level='free', phase=0),\n",
       " Row(userId='30', firstname='Colin', ts=1541051977000, page='NextSong', level='free', phase=0),\n",
       " Row(userId='30', firstname='Colin', ts=1541052199000, page='NextSong', level='free', phase=0),\n",
       " Row(userId='30', firstname='Colin', ts=1541052456000, page='NextSong', level='free', phase=0),\n",
       " Row(userId='30', firstname='Colin', ts=1541052625000, page='NextSong', level='free', phase=0),\n",
       " Row(userId='30', firstname='Colin', ts=1541052908000, page='NextSong', level='free', phase=0),\n",
       " Row(userId='30', firstname='Colin', ts=1541053159000, page='NextSong', level='free', phase=0),\n",
       " Row(userId='30', firstname='Colin', ts=1541053177000, page='Home', level='free', phase=0),\n",
       " Row(userId='30', firstname='Colin', ts=1541053366000, page='NextSong', level='free', phase=0),\n",
       " Row(userId='30', firstname='Colin', ts=1541053726000, page='NextSong', level='free', phase=0),\n",
       " Row(userId='30', firstname='Colin', ts=1541053924000, page='NextSong', level='free', phase=0),\n",
       " Row(userId='30', firstname='Colin', ts=1541053925000, page='Thumbs Up', level='free', phase=0),\n",
       " Row(userId='30', firstname='Colin', ts=1541053945000, page='Add to Playlist', level='free', phase=0),\n",
       " Row(userId='30', firstname='Colin', ts=1541054168000, page='NextSong', level='free', phase=0),\n",
       " Row(userId='30', firstname='Colin', ts=1541054403000, page='NextSong', level='free', phase=0),\n",
       " Row(userId='30', firstname='Colin', ts=1541054680000, page='NextSong', level='free', phase=0),\n",
       " Row(userId='30', firstname='Colin', ts=1541054900000, page='NextSong', level='free', phase=0),\n",
       " Row(userId='30', firstname='Colin', ts=1541055194000, page='NextSong', level='free', phase=0),\n",
       " Row(userId='30', firstname='Colin', ts=1541055465000, page='NextSong', level='free', phase=0),\n",
       " Row(userId='30', firstname='Colin', ts=1541055703000, page='NextSong', level='free', phase=0),\n",
       " Row(userId='30', firstname='Colin', ts=1541055952000, page='NextSong', level='free', phase=0),\n",
       " Row(userId='30', firstname='Colin', ts=1541056124000, page='NextSong', level='free', phase=0),\n",
       " Row(userId='30', firstname='Colin', ts=1541056379000, page='NextSong', level='free', phase=0),\n",
       " Row(userId='30', firstname='Colin', ts=1541169777000, page='NextSong', level='free', phase=0),\n",
       " Row(userId='30', firstname='Colin', ts=1541170127000, page='NextSong', level='free', phase=0),\n",
       " Row(userId='30', firstname='Colin', ts=1541170299000, page='NextSong', level='free', phase=0),\n",
       " Row(userId='30', firstname='Colin', ts=1541170756000, page='NextSong', level='free', phase=0),\n",
       " Row(userId='30', firstname='Colin', ts=1541170966000, page='NextSong', level='free', phase=0),\n",
       " Row(userId='30', firstname='Colin', ts=1541170967000, page='Thumbs Up', level='free', phase=0),\n",
       " Row(userId='30', firstname='Colin', ts=1541171542000, page='NextSong', level='free', phase=0),\n",
       " Row(userId='30', firstname='Colin', ts=1541171756000, page='NextSong', level='free', phase=0),\n",
       " Row(userId='30', firstname='Colin', ts=1541171990000, page='NextSong', level='free', phase=0),\n",
       " Row(userId='30', firstname='Colin', ts=1541172150000, page='NextSong', level='free', phase=0),\n",
       " Row(userId='30', firstname='Colin', ts=1541172208000, page='Add to Playlist', level='free', phase=0),\n",
       " Row(userId='30', firstname='Colin', ts=1541172353000, page='NextSong', level='free', phase=0),\n",
       " Row(userId='30', firstname='Colin', ts=1541172668000, page='NextSong', level='free', phase=0),\n",
       " Row(userId='30', firstname='Colin', ts=1541172833000, page='NextSong', level='free', phase=0),\n",
       " Row(userId='30', firstname='Colin', ts=1541173069000, page='NextSong', level='free', phase=0),\n",
       " Row(userId='30', firstname='Colin', ts=1541173240000, page='NextSong', level='free', phase=0),\n",
       " Row(userId='30', firstname='Colin', ts=1541173242000, page='Home', level='free', phase=0),\n",
       " Row(userId='30', firstname='Colin', ts=1541173420000, page='NextSong', level='free', phase=0),\n",
       " Row(userId='30', firstname='Colin', ts=1541173697000, page='NextSong', level='free', phase=0),\n",
       " Row(userId='30', firstname='Colin', ts=1541173861000, page='NextSong', level='free', phase=0),\n",
       " Row(userId='30', firstname='Colin', ts=1541174081000, page='NextSong', level='free', phase=0),\n",
       " Row(userId='30', firstname='Colin', ts=1541174333000, page='NextSong', level='free', phase=0),\n",
       " Row(userId='30', firstname='Colin', ts=1541174830000, page='NextSong', level='free', phase=0),\n",
       " Row(userId='30', firstname='Colin', ts=1541175011000, page='NextSong', level='free', phase=0),\n",
       " Row(userId='30', firstname='Colin', ts=1541175192000, page='NextSong', level='free', phase=0),\n",
       " Row(userId='30', firstname='Colin', ts=1541175365000, page='NextSong', level='free', phase=0),\n",
       " Row(userId='30', firstname='Colin', ts=1541175660000, page='NextSong', level='free', phase=0),\n",
       " Row(userId='30', firstname='Colin', ts=1541175958000, page='NextSong', level='free', phase=0),\n",
       " Row(userId='30', firstname='Colin', ts=1541175995000, page='Upgrade', level='free', phase=0),\n",
       " Row(userId='30', firstname='Colin', ts=1541176143000, page='NextSong', level='free', phase=0),\n",
       " Row(userId='30', firstname='Colin', ts=1541176145000, page='Roll Advert', level='free', phase=0),\n",
       " Row(userId='30', firstname='Colin', ts=1541202975000, page='NextSong', level='free', phase=0),\n",
       " Row(userId='30', firstname='Colin', ts=1541203331000, page='NextSong', level='free', phase=0),\n",
       " Row(userId='30', firstname='Colin', ts=1541203597000, page='NextSong', level='free', phase=0),\n",
       " Row(userId='30', firstname='Colin', ts=1541203674000, page='Home', level='free', phase=0),\n",
       " Row(userId='30', firstname='Colin', ts=1541203675000, page='Add Friend', level='free', phase=0),\n",
       " Row(userId='30', firstname='Colin', ts=1541203676000, page='Add Friend', level='free', phase=0),\n",
       " Row(userId='30', firstname='Colin', ts=1541203814000, page='NextSong', level='free', phase=0),\n",
       " Row(userId='30', firstname='Colin', ts=1541204215000, page='NextSong', level='free', phase=0),\n",
       " Row(userId='30', firstname='Colin', ts=1541204243000, page='Home', level='free', phase=0),\n",
       " Row(userId='30', firstname='Colin', ts=1541204461000, page='NextSong', level='free', phase=0),\n",
       " Row(userId='30', firstname='Colin', ts=1541204491000, page='Add to Playlist', level='free', phase=0),\n",
       " Row(userId='30', firstname='Colin', ts=1541204630000, page='NextSong', level='free', phase=0),\n",
       " Row(userId='30', firstname='Colin', ts=1541204887000, page='NextSong', level='free', phase=0),\n",
       " Row(userId='30', firstname='Colin', ts=1541205049000, page='NextSong', level='free', phase=0),\n",
       " Row(userId='30', firstname='Colin', ts=1541205064000, page='Home', level='free', phase=0),\n",
       " Row(userId='30', firstname='Colin', ts=1541205714000, page='NextSong', level='free', phase=0),\n",
       " Row(userId='30', firstname='Colin', ts=1541205986000, page='NextSong', level='free', phase=0),\n",
       " Row(userId='30', firstname='Colin', ts=1541206170000, page='NextSong', level='free', phase=0),\n",
       " Row(userId='30', firstname='Colin', ts=1541206420000, page='NextSong', level='free', phase=0),\n",
       " Row(userId='30', firstname='Colin', ts=1541206582000, page='NextSong', level='free', phase=0),\n",
       " Row(userId='30', firstname='Colin', ts=1541206820000, page='NextSong', level='free', phase=0),\n",
       " Row(userId='30', firstname='Colin', ts=1541206821000, page='Add Friend', level='free', phase=0),\n",
       " Row(userId='30', firstname='Colin', ts=1541207020000, page='NextSong', level='free', phase=0),\n",
       " Row(userId='30', firstname='Colin', ts=1541207264000, page='NextSong', level='free', phase=0),\n",
       " Row(userId='30', firstname='Colin', ts=1541207282000, page='Upgrade', level='free', phase=0),\n",
       " Row(userId='30', firstname='Colin', ts=1541207434000, page='NextSong', level='free', phase=0),\n",
       " Row(userId='30', firstname='Colin', ts=1541207446000, page='Roll Advert', level='free', phase=0),\n",
       " Row(userId='30', firstname='Colin', ts=1541207582000, page='NextSong', level='free', phase=0),\n",
       " Row(userId='30', firstname='Colin', ts=1541207777000, page='NextSong', level='free', phase=0),\n",
       " Row(userId='30', firstname='Colin', ts=1541207783000, page='Roll Advert', level='free', phase=0),\n",
       " Row(userId='30', firstname='Colin', ts=1541207972000, page='NextSong', level='free', phase=0),\n",
       " Row(userId='30', firstname='Colin', ts=1541208235000, page='NextSong', level='free', phase=0),\n",
       " Row(userId='30', firstname='Colin', ts=1541208236000, page='Logout', level='free', phase=0),\n",
       " Row(userId='30', firstname='Colin', ts=1541208254000, page='Home', level='free', phase=0),\n",
       " Row(userId='30', firstname='Colin', ts=1541208424000, page='NextSong', level='free', phase=0),\n",
       " Row(userId='30', firstname='Colin', ts=1541208702000, page='NextSong', level='free', phase=0),\n",
       " Row(userId='30', firstname='Colin', ts=1541208905000, page='NextSong', level='free', phase=0),\n",
       " Row(userId='30', firstname='Colin', ts=1541209155000, page='NextSong', level='free', phase=0),\n",
       " Row(userId='30', firstname='Colin', ts=1541209406000, page='NextSong', level='free', phase=0),\n",
       " Row(userId='30', firstname='Colin', ts=1541209595000, page='NextSong', level='free', phase=0),\n",
       " Row(userId='30', firstname='Colin', ts=1541209596000, page='Thumbs Down', level='free', phase=0),\n",
       " Row(userId='30', firstname='Colin', ts=1541209845000, page='NextSong', level='free', phase=0),\n",
       " Row(userId='30', firstname='Colin', ts=1541210097000, page='NextSong', level='free', phase=0),\n",
       " Row(userId='30', firstname='Colin', ts=1541210383000, page='NextSong', level='free', phase=0),\n",
       " Row(userId='30', firstname='Colin', ts=1541210754000, page='NextSong', level='free', phase=0),\n",
       " Row(userId='30', firstname='Colin', ts=1541210946000, page='NextSong', level='free', phase=0),\n",
       " Row(userId='30', firstname='Colin', ts=1541210954000, page='Add to Playlist', level='free', phase=0),\n",
       " Row(userId='30', firstname='Colin', ts=1541211223000, page='NextSong', level='free', phase=0),\n",
       " Row(userId='30', firstname='Colin', ts=1541211462000, page='NextSong', level='free', phase=0),\n",
       " Row(userId='30', firstname='Colin', ts=1541211620000, page='NextSong', level='free', phase=0),\n",
       " Row(userId='30', firstname='Colin', ts=1541211875000, page='NextSong', level='free', phase=0),\n",
       " Row(userId='30', firstname='Colin', ts=1541211879000, page='Roll Advert', level='free', phase=0),\n",
       " Row(userId='30', firstname='Colin', ts=1541212208000, page='NextSong', level='free', phase=0),\n",
       " Row(userId='30', firstname='Colin', ts=1541212518000, page='NextSong', level='free', phase=0),\n",
       " Row(userId='30', firstname='Colin', ts=1541212754000, page='NextSong', level='free', phase=0),\n",
       " Row(userId='30', firstname='Colin', ts=1541213011000, page='NextSong', level='free', phase=0),\n",
       " Row(userId='30', firstname='Colin', ts=1541213687000, page='NextSong', level='free', phase=0),\n",
       " Row(userId='30', firstname='Colin', ts=1541213688000, page='Thumbs Up', level='free', phase=0),\n",
       " Row(userId='30', firstname='Colin', ts=1541213973000, page='NextSong', level='free', phase=0),\n",
       " Row(userId='30', firstname='Colin', ts=1541214187000, page='NextSong', level='free', phase=0),\n",
       " Row(userId='30', firstname='Colin', ts=1541214411000, page='NextSong', level='free', phase=0),\n",
       " Row(userId='30', firstname='Colin', ts=1541214671000, page='NextSong', level='free', phase=0),\n",
       " Row(userId='30', firstname='Colin', ts=1541214857000, page='NextSong', level='free', phase=0),\n",
       " Row(userId='30', firstname='Colin', ts=1541215028000, page='NextSong', level='free', phase=0),\n",
       " Row(userId='30', firstname='Colin', ts=1541215258000, page='NextSong', level='free', phase=0),\n",
       " Row(userId='30', firstname='Colin', ts=1541215502000, page='NextSong', level='free', phase=0),\n",
       " Row(userId='30', firstname='Colin', ts=1541215673000, page='NextSong', level='free', phase=0),\n",
       " Row(userId='30', firstname='Colin', ts=1541215950000, page='NextSong', level='free', phase=0),\n",
       " Row(userId='30', firstname='Colin', ts=1541216279000, page='NextSong', level='free', phase=0),\n",
       " Row(userId='30', firstname='Colin', ts=1541216637000, page='NextSong', level='free', phase=0),\n",
       " Row(userId='30', firstname='Colin', ts=1541216778000, page='NextSong', level='free', phase=0),\n",
       " Row(userId='30', firstname='Colin', ts=1541217028000, page='NextSong', level='free', phase=0),\n",
       " Row(userId='30', firstname='Colin', ts=1541217193000, page='NextSong', level='free', phase=0),\n",
       " Row(userId='30', firstname='Colin', ts=1541217381000, page='NextSong', level='free', phase=0),\n",
       " Row(userId='30', firstname='Colin', ts=1541217646000, page='NextSong', level='free', phase=0),\n",
       " Row(userId='30', firstname='Colin', ts=1541217836000, page='NextSong', level='free', phase=0),\n",
       " Row(userId='30', firstname='Colin', ts=1541218120000, page='NextSong', level='free', phase=0),\n",
       " Row(userId='30', firstname='Colin', ts=1541218614000, page='NextSong', level='free', phase=0),\n",
       " Row(userId='30', firstname='Colin', ts=1541218617000, page='About', level='free', phase=0),\n",
       " Row(userId='30', firstname='Colin', ts=1541218903000, page='NextSong', level='free', phase=0),\n",
       " Row(userId='30', firstname='Colin', ts=1541218904000, page='Logout', level='free', phase=0),\n",
       " Row(userId='30', firstname='Colin', ts=1541218934000, page='Home', level='free', phase=0),\n",
       " Row(userId='30', firstname='Colin', ts=1541219400000, page='NextSong', level='free', phase=0),\n",
       " Row(userId='30', firstname='Colin', ts=1541219401000, page='Thumbs Up', level='free', phase=0),\n",
       " Row(userId='30', firstname='Colin', ts=1541219605000, page='NextSong', level='free', phase=0),\n",
       " Row(userId='30', firstname='Colin', ts=1541219622000, page='Upgrade', level='free', phase=0),\n",
       " Row(userId='30', firstname='Colin', ts=1541219953000, page='NextSong', level='free', phase=0),\n",
       " Row(userId='30', firstname='Colin', ts=1541220184000, page='NextSong', level='free', phase=0),\n",
       " Row(userId='30', firstname='Colin', ts=1541220546000, page='NextSong', level='free', phase=0),\n",
       " Row(userId='30', firstname='Colin', ts=1541220784000, page='NextSong', level='free', phase=0),\n",
       " Row(userId='30', firstname='Colin', ts=1541221059000, page='NextSong', level='free', phase=0),\n",
       " Row(userId='30', firstname='Colin', ts=1541221060000, page='Roll Advert', level='free', phase=0),\n",
       " Row(userId='30', firstname='Colin', ts=1541221287000, page='NextSong', level='free', phase=0),\n",
       " Row(userId='30', firstname='Colin', ts=1541221485000, page='NextSong', level='free', phase=0),\n",
       " Row(userId='30', firstname='Colin', ts=1541221714000, page='NextSong', level='free', phase=0),\n",
       " Row(userId='30', firstname='Colin', ts=1541221734000, page='Roll Advert', level='free', phase=0),\n",
       " Row(userId='30', firstname='Colin', ts=1541222052000, page='NextSong', level='free', phase=0),\n",
       " Row(userId='30', firstname='Colin', ts=1541314757000, page='NextSong', level='free', phase=0),\n",
       " Row(userId='30', firstname='Colin', ts=1541314766000, page='Roll Advert', level='free', phase=0),\n",
       " Row(userId='30', firstname='Colin', ts=1541314925000, page='NextSong', level='free', phase=0),\n",
       " Row(userId='30', firstname='Colin', ts=1541315241000, page='NextSong', level='free', phase=0),\n",
       " Row(userId='30', firstname='Colin', ts=1541315376000, page='NextSong', level='free', phase=0),\n",
       " Row(userId='30', firstname='Colin', ts=1541315407000, page='Home', level='free', phase=0),\n",
       " Row(userId='30', firstname='Colin', ts=1541315579000, page='NextSong', level='free', phase=0),\n",
       " Row(userId='30', firstname='Colin', ts=1541315886000, page='NextSong', level='free', phase=0),\n",
       " Row(userId='30', firstname='Colin', ts=1541315897000, page='Roll Advert', level='free', phase=0),\n",
       " Row(userId='30', firstname='Colin', ts=1541316119000, page='NextSong', level='free', phase=0),\n",
       " Row(userId='30', firstname='Colin', ts=1541316548000, page='NextSong', level='free', phase=0),\n",
       " Row(userId='30', firstname='Colin', ts=1541316808000, page='NextSong', level='free', phase=0),\n",
       " Row(userId='30', firstname='Colin', ts=1541317039000, page='NextSong', level='free', phase=0),\n",
       " Row(userId='30', firstname='Colin', ts=1541317323000, page='NextSong', level='free', phase=0),\n",
       " Row(userId='30', firstname='Colin', ts=1541317677000, page='NextSong', level='free', phase=0),\n",
       " Row(userId='30', firstname='Colin', ts=1541318084000, page='NextSong', level='free', phase=0),\n",
       " Row(userId='30', firstname='Colin', ts=1541318389000, page='NextSong', level='free', phase=0),\n",
       " Row(userId='30', firstname='Colin', ts=1541318648000, page='NextSong', level='free', phase=0),\n",
       " Row(userId='30', firstname='Colin', ts=1541318815000, page='NextSong', level='free', phase=0),\n",
       " Row(userId='30', firstname='Colin', ts=1541319005000, page='NextSong', level='free', phase=0),\n",
       " Row(userId='30', firstname='Colin', ts=1541319208000, page='NextSong', level='free', phase=0),\n",
       " Row(userId='30', firstname='Colin', ts=1541319435000, page='NextSong', level='free', phase=0),\n",
       " Row(userId='30', firstname='Colin', ts=1541319443000, page='Add to Playlist', level='free', phase=0),\n",
       " Row(userId='30', firstname='Colin', ts=1541319612000, page='NextSong', level='free', phase=0),\n",
       " Row(userId='30', firstname='Colin', ts=1541319779000, page='NextSong', level='free', phase=0),\n",
       " Row(userId='30', firstname='Colin', ts=1541320077000, page='NextSong', level='free', phase=0),\n",
       " Row(userId='30', firstname='Colin', ts=1541320092000, page='Home', level='free', phase=0),\n",
       " Row(userId='30', firstname='Colin', ts=1541320093000, page='Add Friend', level='free', phase=0),\n",
       " Row(userId='30', firstname='Colin', ts=1541320322000, page='NextSong', level='free', phase=0),\n",
       " Row(userId='30', firstname='Colin', ts=1541320323000, page='Thumbs Up', level='free', phase=0),\n",
       " Row(userId='30', firstname='Colin', ts=1541320544000, page='NextSong', level='free', phase=0),\n",
       " Row(userId='30', firstname='Colin', ts=1541320800000, page='NextSong', level='free', phase=0),\n",
       " Row(userId='30', firstname='Colin', ts=1541321067000, page='NextSong', level='free', phase=0),\n",
       " Row(userId='30', firstname='Colin', ts=1541321068000, page='Thumbs Up', level='free', phase=0),\n",
       " Row(userId='30', firstname='Colin', ts=1541321328000, page='NextSong', level='free', phase=0),\n",
       " Row(userId='30', firstname='Colin', ts=1541421195000, page='NextSong', level='free', phase=0),\n",
       " Row(userId='30', firstname='Colin', ts=1541421514000, page='NextSong', level='free', phase=0),\n",
       " Row(userId='30', firstname='Colin', ts=1541421819000, page='NextSong', level='free', phase=0),\n",
       " Row(userId='30', firstname='Colin', ts=1541422008000, page='NextSong', level='free', phase=0),\n",
       " Row(userId='30', firstname='Colin', ts=1541422228000, page='NextSong', level='free', phase=0),\n",
       " Row(userId='30', firstname='Colin', ts=1541422459000, page='NextSong', level='free', phase=0),\n",
       " Row(userId='30', firstname='Colin', ts=1541422511000, page='Add to Playlist', level='free', phase=0),\n",
       " Row(userId='30', firstname='Colin', ts=1541422684000, page='NextSong', level='free', phase=0),\n",
       " Row(userId='30', firstname='Colin', ts=1541422923000, page='NextSong', level='free', phase=0),\n",
       " Row(userId='30', firstname='Colin', ts=1541423142000, page='NextSong', level='free', phase=0),\n",
       " Row(userId='30', firstname='Colin', ts=1541423315000, page='NextSong', level='free', phase=0),\n",
       " Row(userId='30', firstname='Colin', ts=1541423324000, page='Roll Advert', level='free', phase=0),\n",
       " Row(userId='30', firstname='Colin', ts=1541423328000, page='Roll Advert', level='free', phase=0),\n",
       " Row(userId='30', firstname='Colin', ts=1541423546000, page='NextSong', level='free', phase=0),\n",
       " Row(userId='30', firstname='Colin', ts=1541423670000, page='NextSong', level='free', phase=0),\n",
       " Row(userId='30', firstname='Colin', ts=1541423709000, page='Upgrade', level='free', phase=0),\n",
       " Row(userId='30', firstname='Colin', ts=1541423891000, page='NextSong', level='free', phase=0),\n",
       " Row(userId='30', firstname='Colin', ts=1541423892000, page='Logout', level='free', phase=0),\n",
       " Row(userId='30', firstname='Colin', ts=1541423920000, page='Home', level='free', phase=0),\n",
       " Row(userId='30', firstname='Colin', ts=1541424209000, page='NextSong', level='free', phase=0),\n",
       " Row(userId='30', firstname='Colin', ts=1541424510000, page='NextSong', level='free', phase=0),\n",
       " Row(userId='30', firstname='Colin', ts=1541424718000, page='NextSong', level='free', phase=0),\n",
       " Row(userId='30', firstname='Colin', ts=1541425212000, page='NextSong', level='free', phase=0),\n",
       " Row(userId='30', firstname='Colin', ts=1541425403000, page='NextSong', level='free', phase=0),\n",
       " Row(userId='30', firstname='Colin', ts=1541425655000, page='NextSong', level='free', phase=0),\n",
       " Row(userId='30', firstname='Colin', ts=1541425700000, page='Roll Advert', level='free', phase=0),\n",
       " Row(userId='30', firstname='Colin', ts=1541425944000, page='NextSong', level='free', phase=0),\n",
       " Row(userId='30', firstname='Colin', ts=1541425989000, page='Roll Advert', level='free', phase=0),\n",
       " Row(userId='30', firstname='Colin', ts=1541430348000, page='NextSong', level='free', phase=0),\n",
       " Row(userId='30', firstname='Colin', ts=1541430349000, page='Thumbs Down', level='free', phase=0),\n",
       " Row(userId='30', firstname='Colin', ts=1541430591000, page='NextSong', level='free', phase=0),\n",
       " Row(userId='30', firstname='Colin', ts=1541430805000, page='NextSong', level='free', phase=0),\n",
       " Row(userId='30', firstname='Colin', ts=1541431046000, page='NextSong', level='free', phase=0),\n",
       " Row(userId='30', firstname='Colin', ts=1541431190000, page='NextSong', level='free', phase=0),\n",
       " Row(userId='30', firstname='Colin', ts=1541431191000, page='Thumbs Up', level='free', phase=0),\n",
       " Row(userId='30', firstname='Colin', ts=1541431415000, page='NextSong', level='free', phase=0),\n",
       " Row(userId='30', firstname='Colin', ts=1541442785000, page='NextSong', level='free', phase=0),\n",
       " Row(userId='30', firstname='Colin', ts=1541442990000, page='NextSong', level='free', phase=0),\n",
       " Row(userId='30', firstname='Colin', ts=1541443162000, page='NextSong', level='free', phase=0),\n",
       " Row(userId='30', firstname='Colin', ts=1541443425000, page='NextSong', level='free', phase=0),\n",
       " Row(userId='30', firstname='Colin', ts=1541443818000, page='NextSong', level='free', phase=0),\n",
       " Row(userId='30', firstname='Colin', ts=1541443819000, page='Thumbs Up', level='free', phase=0),\n",
       " Row(userId='30', firstname='Colin', ts=1541443875000, page='NextSong', level='free', phase=0),\n",
       " Row(userId='30', firstname='Colin', ts=1541444113000, page='NextSong', level='free', phase=0),\n",
       " ...]"
      ]
     },
     "execution_count": 34,
     "metadata": {},
     "output_type": "execute_result"
    }
   ],
   "source": [
    "data_log_valid.select([\"userId\", \"firstname\", \"ts\", \"page\", \"level\",\"phase\"]).where(data_log_valid.userId == \"30\").sort(\"ts\").collect()"
   ]
  },
  {
   "cell_type": "code",
   "execution_count": 35,
   "metadata": {},
   "outputs": [
    {
     "name": "stdout",
     "output_type": "stream",
     "text": [
      "+-------+------------------+\n",
      "|summary|    session_length|\n",
      "+-------+------------------+\n",
      "|  count|              2253|\n",
      "|   mean|420.37004103121774|\n",
      "| stddev| 468.6194947226623|\n",
      "|    min|         2.5578155|\n",
      "|    max|4462.6355484999995|\n",
      "+-------+------------------+\n",
      "\n"
     ]
    }
   ],
   "source": [
    "# session duration in minutes\n",
    "session_duration = data_log_valid.withColumn('session_length', F.sum('length')\\\n",
    "                                             .over(Window.partitionBy('SessionId'))/60)\\\n",
    "                                            .select('sessionId','session_length')\\\n",
    "                                            .dropDuplicates()\n",
    "session_duration.select('session_length').describe().show()"
   ]
  },
  {
   "cell_type": "markdown",
   "metadata": {},
   "source": [
    "# Feature Engineering\n",
    "Once you've familiarized yourself with the data, build out the features you find promising to train your model on. To work with the full dataset, you can follow the following steps.\n",
    "- Write a script to extract the necessary features from the smaller subset of data\n",
    "- Ensure that your script is scalable, using the best practices discussed in Lesson 3\n",
    "- Try your script on the full data set, debugging your script if necessary\n",
    "\n",
    "If you are working in the classroom workspace, you can just extract features based on the small subset of data contained here. Be sure to transfer over this work to the larger dataset when you work on your Spark cluster."
   ]
  },
  {
   "cell_type": "code",
   "execution_count": 36,
   "metadata": {},
   "outputs": [],
   "source": [
    "# transform gender to numeric\n",
    "gender = data_log_valid.select('userId','gender')\\\n",
    "            .dropDuplicates()\\\n",
    "            .withColumn('gender_flag', F.when(F.col('gender')=='F',1).otherwise(0))\\\n",
    "            .drop('gender')\n",
    "data_log_valid = data_log_valid.join(gender,on=['userId'], how='left')"
   ]
  },
  {
   "cell_type": "code",
   "execution_count": 37,
   "metadata": {},
   "outputs": [],
   "source": [
    "# defining churn\n",
    "data_log_valid = data_log_valid.withColumn('churn', F.when(data_log_valid.page == 'Cancellation Confirmation', 1)\\\n",
    "                       .otherwise(0))\n",
    "data_log_valid = data_log_valid.withColumn('user_churn_flag', F.max('churn').over(Window.partitionBy('UserId')))\n"
   ]
  },
  {
   "cell_type": "code",
   "execution_count": 38,
   "metadata": {},
   "outputs": [],
   "source": [
    "# paid sessions by user\n",
    "paid_sessions = data_log_valid.select('userId', 'sessionId')\\\n",
    "                        .where(data_log_valid.level == 'paid')\\\n",
    "                        .groupBy('userId')\\\n",
    "                        .count() \\\n",
    "                        .withColumnRenamed('count', 'paid_sessions')\n",
    "data_log_valid = data_log_valid.join(paid_sessions,on=['userId'], how='left')\n"
   ]
  },
  {
   "cell_type": "code",
   "execution_count": 39,
   "metadata": {},
   "outputs": [],
   "source": [
    "# transform timestamp\n",
    "ts_to_dt = udf(lambda x: datetime.datetime.fromtimestamp(x / 1000.0), TimestampType())\n",
    "df = data_log_valid.withColumn('registration_dt', ts_to_dt(F.col('registration')))\n",
    "df = df.withColumn('ts', ts_to_dt(F.col('ts')))"
   ]
  },
  {
   "cell_type": "code",
   "execution_count": 40,
   "metadata": {},
   "outputs": [],
   "source": [
    "\n",
    "# count active days by user\n",
    "active_days = df.select('userId','ts')\\\n",
    "                    .dropDuplicates()\\\n",
    "                    .groupby('userId')\\\n",
    "                    .count()\\\n",
    "                    .withColumnRenamed(\"count\", \"active_days_count\")\n",
    "df = df.join(active_days,on=['userId'], how='left')"
   ]
  },
  {
   "cell_type": "code",
   "execution_count": 41,
   "metadata": {},
   "outputs": [],
   "source": [
    "# calculate the tenure days (the days that we have user in the platform)\n",
    "max_date = df.select('ts').agg(F.max('ts')).collect()[0][0]\n",
    "df = df.withColumn('tenure',F.datediff(F.lit(max_date), F.col('registration_dt')))\n"
   ]
  },
  {
   "cell_type": "code",
   "execution_count": 42,
   "metadata": {
    "scrolled": true
   },
   "outputs": [],
   "source": [
    "free = df.select('userId', 'sessionId')\\\n",
    "                        .where(df.level == 'free')\\\n",
    "                        .groupBy('userId')\\\n",
    "                        .count() \\\n",
    "                        .withColumnRenamed('count', 'free_sessions')\n",
    "df = df.join(free,on=['userId'], how='left')"
   ]
  },
  {
   "cell_type": "code",
   "execution_count": 43,
   "metadata": {},
   "outputs": [],
   "source": [
    "# songs per user\n",
    "songs_per_user = df.select('userId','ts','song')\\\n",
    "                                .dropDuplicates()\\\n",
    "                                .groupby('userId')\\\n",
    "                                .count()\\\n",
    "                                .withColumnRenamed(\"count\", \"song_count\")\n",
    "df = df.join(songs_per_user,on=['userId'], how='left')"
   ]
  },
  {
   "cell_type": "code",
   "execution_count": 44,
   "metadata": {},
   "outputs": [],
   "source": [
    "# identify user os,location and browser\n",
    "udf_os = udf(lambda x: httpagentparser.simple_detect(x)[0].split(' ')[0], StringType())\n",
    "udf_browser =  udf(lambda x: httpagentparser.simple_detect(x)[1].split(' ')[0], StringType())\n",
    "udf_location = udf(lambda x: x.split(',')[1], StringType())"
   ]
  },
  {
   "cell_type": "code",
   "execution_count": 45,
   "metadata": {},
   "outputs": [],
   "source": [
    "df = df.withColumn('location_state', udf_location('location'))\n"
   ]
  },
  {
   "cell_type": "code",
   "execution_count": 46,
   "metadata": {},
   "outputs": [],
   "source": [
    "df = df.withColumn('browser', udf_browser('userAgent'))\n",
    "df = df.withColumn('os', udf_os('userAgent'))\n"
   ]
  },
  {
   "cell_type": "code",
   "execution_count": 47,
   "metadata": {},
   "outputs": [],
   "source": [
    "# count pages that users get access besid cancel and cancellation confirmatio\n",
    "page_counts = df.select(\"userId\", \"page\").groupBy(\"userId\").pivot(\"page\") \\\n",
    "    .count().drop(\"Cancel\", \"Cancellation Confirmation\").fillna(0)\n"
   ]
  },
  {
   "cell_type": "code",
   "execution_count": 48,
   "metadata": {},
   "outputs": [],
   "source": [
    "df = df.join(page_counts, on=['userId'], how='left')"
   ]
  },
  {
   "cell_type": "code",
   "execution_count": 142,
   "metadata": {
    "scrolled": true
   },
   "outputs": [
    {
     "data": {
      "text/plain": [
       "[Row(userId='100010', artist=None, auth='Logged In', firstName='Darianna', gender='F', itemInSession=34, lastName='Carpenter', length=None, level='free', location='Bridgeport-Stamford-Norwalk, CT', method='PUT', page='Logout', registration=1538016340000, sessionId=187, song=None, status=307, ts=datetime.datetime(2018, 11, 21, 18, 12, 32), userAgent='\"Mozilla/5.0 (iPhone; CPU iPhone OS 7_1_2 like Mac OS X) AppleWebKit/537.51.2 (KHTML, like Gecko) Version/7.0 Mobile/11D257 Safari/9537.53\"', hour='18', downgraded=0, phase=0, gender_flag=1, churn=0, user_churn_flag=0, paid_sessions=None, registration_dt=datetime.datetime(2018, 9, 27, 2, 45, 40), active_days_count=377, tenure=67, free_sessions=381, song_count=381, location_state=' CT', browser='Safari', os='iPhone', About=1, Add Friend=4, Add to Playlist=7, Downgrade=0, Error=0, Help=2, Home=11, Logout=5, NextSong=275, Roll Advert=52, Save Settings=0, Settings=0, Submit Downgrade=0, Submit Upgrade=0, Thumbs Down=5, Thumbs Up=17, Upgrade=2)]"
      ]
     },
     "execution_count": 142,
     "metadata": {},
     "output_type": "execute_result"
    }
   ],
   "source": [
    "df.take(1)"
   ]
  },
  {
   "cell_type": "code",
   "execution_count": 49,
   "metadata": {},
   "outputs": [],
   "source": [
    "current_condition = df.orderBy('ts', ascending=False).groupBy('userId') \\\n",
    "    .agg(F.first('level') \\\n",
    "    .alias('current_condition'))"
   ]
  },
  {
   "cell_type": "code",
   "execution_count": 50,
   "metadata": {},
   "outputs": [],
   "source": [
    "df = df.join(current_condition, on=['userId'], how='left')"
   ]
  },
  {
   "cell_type": "markdown",
   "metadata": {},
   "source": [
    "# get graphs using pandas\n"
   ]
  },
  {
   "cell_type": "code",
   "execution_count": 101,
   "metadata": {},
   "outputs": [],
   "source": [
    "\n",
    "df_pandas = df.toPandas()"
   ]
  },
  {
   "cell_type": "code",
   "execution_count": 102,
   "metadata": {},
   "outputs": [
    {
     "name": "stdout",
     "output_type": "stream",
     "text": [
      "<class 'pandas.core.frame.DataFrame'>\n",
      "RangeIndex: 278154 entries, 0 to 278153\n",
      "Data columns (total 33 columns):\n",
      "userId               278154 non-null object\n",
      "artist               228108 non-null object\n",
      "auth                 278154 non-null object\n",
      "firstName            278154 non-null object\n",
      "gender               278154 non-null object\n",
      "itemInSession        278154 non-null int64\n",
      "lastName             278154 non-null object\n",
      "length               228108 non-null float64\n",
      "level                278154 non-null object\n",
      "location             278154 non-null object\n",
      "method               278154 non-null object\n",
      "page                 278154 non-null object\n",
      "registration         278154 non-null int64\n",
      "sessionId            278154 non-null int64\n",
      "song                 228108 non-null object\n",
      "status               278154 non-null int64\n",
      "ts                   278154 non-null datetime64[ns]\n",
      "userAgent            278154 non-null object\n",
      "hour                 278154 non-null object\n",
      "downgraded           278154 non-null int32\n",
      "phase                278154 non-null int64\n",
      "gender_flag          278154 non-null int32\n",
      "churn                278154 non-null int32\n",
      "user_churn_flag      278154 non-null int32\n",
      "paid_sessions        264680 non-null float64\n",
      "registration_dt      278154 non-null datetime64[ns]\n",
      "active_days_count    278154 non-null int64\n",
      "tenure               278154 non-null int32\n",
      "free_sessions        241028 non-null float64\n",
      "song_count           278154 non-null int64\n",
      "location_state       278154 non-null object\n",
      "browser              278154 non-null object\n",
      "os                   278154 non-null object\n",
      "dtypes: datetime64[ns](2), float64(3), int32(5), int64(7), object(16)\n",
      "memory usage: 64.7+ MB\n"
     ]
    }
   ],
   "source": [
    "df_pandas.info()"
   ]
  },
  {
   "cell_type": "code",
   "execution_count": 103,
   "metadata": {},
   "outputs": [
    {
     "data": {
      "image/png": "[encoded data removed]",
      "text/plain": [
       "<matplotlib.figure.Figure at 0x7f00cdc35ac8>"
      ]
     },
     "metadata": {},
     "output_type": "display_data"
    }
   ],
   "source": [
    "plt.figure(figsize=(10,10))\n",
    "plt.title(\"Churn Distribution\")\n",
    "sns.barplot(x=['Not Churn','Churn'], y=df_pandas['user_churn_flag'].value_counts(normalize=True)*100);"
   ]
  },
  {
   "cell_type": "code",
   "execution_count": 104,
   "metadata": {},
   "outputs": [
    {
     "data": {
      "image/png": "[encoded data removed]",
      "text/plain": [
       "<matplotlib.figure.Figure at 0x7f00d0802588>"
      ]
     },
     "metadata": {},
     "output_type": "display_data"
    }
   ],
   "source": [
    "plt.figure(figsize=(10,10))\n",
    "plt.title(\"Gender Distribution\")\n",
    "sns.barplot(x=['M','F'], y=df_pandas['gender'].value_counts(normalize=True)*100);"
   ]
  },
  {
   "cell_type": "code",
   "execution_count": 105,
   "metadata": {},
   "outputs": [
    {
     "data": {
      "text/plain": [
       "225"
      ]
     },
     "execution_count": 105,
     "metadata": {},
     "output_type": "execute_result"
    }
   ],
   "source": [
    "df.select('userId').dropDuplicates().count()"
   ]
  },
  {
   "cell_type": "code",
   "execution_count": 106,
   "metadata": {},
   "outputs": [
    {
     "data": {
      "text/plain": [
       "<matplotlib.axes._subplots.AxesSubplot at 0x7f00d285c400>"
      ]
     },
     "execution_count": 106,
     "metadata": {},
     "output_type": "execute_result"
    },
    {
     "data": {
      "image/png": "[encoded data removed]",
      "text/plain": [
       "<matplotlib.figure.Figure at 0x7f00e53309e8>"
      ]
     },
     "metadata": {},
     "output_type": "display_data"
    }
   ],
   "source": [
    "tmp = df_pandas['os'].value_counts(normalize=True)*100\n",
    "tmp.plot(kind='bar')"
   ]
  },
  {
   "cell_type": "code",
   "execution_count": 107,
   "metadata": {},
   "outputs": [
    {
     "data": {
      "text/plain": [
       "<matplotlib.axes._subplots.AxesSubplot at 0x7f00d7bc5400>"
      ]
     },
     "execution_count": 107,
     "metadata": {},
     "output_type": "execute_result"
    },
    {
     "data": {
      "image/png": "[encoded data removed]",
      "text/plain": [
       "<matplotlib.figure.Figure at 0x7f00d554e828>"
      ]
     },
     "metadata": {},
     "output_type": "display_data"
    }
   ],
   "source": [
    "tmp_2 = df_pandas['browser'].value_counts(normalize=True)*100\n",
    "tmp_2.plot(kind='bar')"
   ]
  },
  {
   "cell_type": "code",
   "execution_count": 108,
   "metadata": {},
   "outputs": [
    {
     "data": {
      "text/plain": [
       "<matplotlib.axes._subplots.AxesSubplot at 0x7f00dbcc65f8>"
      ]
     },
     "execution_count": 108,
     "metadata": {},
     "output_type": "execute_result"
    },
    {
     "data": {
      "image/png": "[encoded data removed]",
      "text/plain": [
       "<matplotlib.figure.Figure at 0x7f00d9cf1240>"
      ]
     },
     "metadata": {},
     "output_type": "display_data"
    }
   ],
   "source": [
    "\n",
    "prop_df = (df_pandas['browser']\n",
    "           .groupby(df_pandas['user_churn_flag'])\n",
    "           .value_counts(normalize=True)\n",
    "           .rename('prop')\n",
    "           .reset_index())\n",
    "\n",
    "sns.barplot(x='browser', y='prop', hue='user_churn_flag', data=prop_df,order=df_pandas['browser'].value_counts().index)"
   ]
  },
  {
   "cell_type": "code",
   "execution_count": 109,
   "metadata": {
    "scrolled": true
   },
   "outputs": [
    {
     "data": {
      "image/png": "[encoded data removed]",
      "text/plain": [
       "<matplotlib.figure.Figure at 0x7f00da362978>"
      ]
     },
     "metadata": {},
     "output_type": "display_data"
    }
   ],
   "source": [
    "sns.set(style=\"darkgrid\")\n",
    "ax = sns.countplot(x='browser', hue=\"user_churn_flag\", data=df_pandas,order=df_pandas['browser'].value_counts().index)\n",
    "plt.show()"
   ]
  },
  {
   "cell_type": "code",
   "execution_count": 110,
   "metadata": {},
   "outputs": [
    {
     "data": {
      "text/plain": [
       "<matplotlib.axes._subplots.AxesSubplot at 0x7f00e1e57550>"
      ]
     },
     "execution_count": 110,
     "metadata": {},
     "output_type": "execute_result"
    },
    {
     "data": {
      "image/png": "[encoded data removed]",
      "text/plain": [
       "<matplotlib.figure.Figure at 0x7f00dc9fa940>"
      ]
     },
     "metadata": {},
     "output_type": "display_data"
    }
   ],
   "source": [
    "\n",
    "prop_df = (df_pandas['gender']\n",
    "           .groupby(df_pandas['user_churn_flag'])\n",
    "           .value_counts(normalize=True)\n",
    "           .rename('prop')\n",
    "           .reset_index())\n",
    "\n",
    "sns.barplot(x='gender', y='prop', hue='user_churn_flag', data=prop_df,order=df_pandas['gender'].value_counts().index)"
   ]
  },
  {
   "cell_type": "code",
   "execution_count": 111,
   "metadata": {},
   "outputs": [
    {
     "data": {
      "text/plain": [
       "<matplotlib.axes._subplots.AxesSubplot at 0x7f00e5857ef0>"
      ]
     },
     "execution_count": 111,
     "metadata": {},
     "output_type": "execute_result"
    },
    {
     "data": {
      "image/png": "[encoded data removed]",
      "text/plain": [
       "<matplotlib.figure.Figure at 0x7f00e450c470>"
      ]
     },
     "metadata": {},
     "output_type": "display_data"
    }
   ],
   "source": [
    "\n",
    "prop_df = (df_pandas['os']\n",
    "           .groupby(df_pandas['user_churn_flag'])\n",
    "           .value_counts(normalize=True)\n",
    "           .rename('prop')\n",
    "           .reset_index())\n",
    "\n",
    "sns.barplot(x='os', y='prop', hue='user_churn_flag', data=prop_df,order=df_pandas['os'].value_counts().index)"
   ]
  },
  {
   "cell_type": "code",
   "execution_count": 135,
   "metadata": {},
   "outputs": [
    {
     "data": {
      "text/plain": [
       "<matplotlib.axes._subplots.AxesSubplot at 0x7f00b80134e0>"
      ]
     },
     "execution_count": 135,
     "metadata": {},
     "output_type": "execute_result"
    },
    {
     "data": {
      "image/png": "[encoded data removed]",
      "text/plain": [
       "<matplotlib.figure.Figure at 0x7f00ae6619e8>"
      ]
     },
     "metadata": {},
     "output_type": "display_data"
    }
   ],
   "source": [
    "plt.figure(figsize=(20,20))\n",
    "prop_df = (df_pandas['location_state']\n",
    "           .groupby(df_pandas['user_churn_flag'])\n",
    "           .value_counts(normalize=True)\n",
    "           .rename('prop')\n",
    "           .reset_index())\n",
    "\n",
    "sns.barplot(x='location_state', y='prop', hue='user_churn_flag', data=prop_df,order=df_pandas['location_state'].value_counts()[:20].index)\n"
   ]
  },
  {
   "cell_type": "code",
   "execution_count": 136,
   "metadata": {},
   "outputs": [
    {
     "data": {
      "text/plain": [
       "<matplotlib.axes._subplots.AxesSubplot at 0x7f00a96c62b0>"
      ]
     },
     "execution_count": 136,
     "metadata": {},
     "output_type": "execute_result"
    },
    {
     "data": {
      "image/png": "[encoded data removed]",
      "text/plain": [
       "<matplotlib.figure.Figure at 0x7f00a96c6ef0>"
      ]
     },
     "metadata": {},
     "output_type": "display_data"
    }
   ],
   "source": [
    "plt.figure(figsize=(20,20))\n",
    "prop_df = (df_pandas['location_state']\n",
    "           .groupby(df_pandas['user_churn_flag'])\n",
    "           .value_counts(normalize=True)\n",
    "           .rename('prop')\n",
    "           .reset_index())\n",
    "\n",
    "sns.barplot(x='location_state', y='prop', hue='user_churn_flag', data=prop_df,order=df_pandas['location_state'].value_counts()[:10].index)\n"
   ]
  },
  {
   "cell_type": "markdown",
   "metadata": {},
   "source": [
    "# Modeling\n",
    "Save data to json"
   ]
  },
  {
   "cell_type": "code",
   "execution_count": 52,
   "metadata": {},
   "outputs": [
    {
     "name": "stdout",
     "output_type": "stream",
     "text": [
      "root\n",
      " |-- userId: string (nullable = true)\n",
      " |-- artist: string (nullable = true)\n",
      " |-- auth: string (nullable = true)\n",
      " |-- firstName: string (nullable = true)\n",
      " |-- gender: string (nullable = true)\n",
      " |-- itemInSession: long (nullable = true)\n",
      " |-- lastName: string (nullable = true)\n",
      " |-- length: double (nullable = true)\n",
      " |-- level: string (nullable = true)\n",
      " |-- location: string (nullable = true)\n",
      " |-- method: string (nullable = true)\n",
      " |-- page: string (nullable = true)\n",
      " |-- registration: long (nullable = true)\n",
      " |-- sessionId: long (nullable = true)\n",
      " |-- song: string (nullable = true)\n",
      " |-- status: long (nullable = true)\n",
      " |-- ts: timestamp (nullable = true)\n",
      " |-- userAgent: string (nullable = true)\n",
      " |-- hour: string (nullable = true)\n",
      " |-- downgraded: integer (nullable = true)\n",
      " |-- phase: long (nullable = true)\n",
      " |-- gender_flag: integer (nullable = true)\n",
      " |-- churn: integer (nullable = false)\n",
      " |-- user_churn_flag: integer (nullable = true)\n",
      " |-- paid_sessions: long (nullable = true)\n",
      " |-- registration_dt: timestamp (nullable = true)\n",
      " |-- active_days_count: long (nullable = true)\n",
      " |-- tenure: integer (nullable = true)\n",
      " |-- free_sessions: long (nullable = true)\n",
      " |-- song_count: long (nullable = true)\n",
      " |-- location_state: string (nullable = true)\n",
      " |-- browser: string (nullable = true)\n",
      " |-- os: string (nullable = true)\n",
      " |-- About: long (nullable = true)\n",
      " |-- Add Friend: long (nullable = true)\n",
      " |-- Add to Playlist: long (nullable = true)\n",
      " |-- Downgrade: long (nullable = true)\n",
      " |-- Error: long (nullable = true)\n",
      " |-- Help: long (nullable = true)\n",
      " |-- Home: long (nullable = true)\n",
      " |-- Logout: long (nullable = true)\n",
      " |-- NextSong: long (nullable = true)\n",
      " |-- Roll Advert: long (nullable = true)\n",
      " |-- Save Settings: long (nullable = true)\n",
      " |-- Settings: long (nullable = true)\n",
      " |-- Submit Downgrade: long (nullable = true)\n",
      " |-- Submit Upgrade: long (nullable = true)\n",
      " |-- Thumbs Down: long (nullable = true)\n",
      " |-- Thumbs Up: long (nullable = true)\n",
      " |-- Upgrade: long (nullable = true)\n",
      " |-- current_condition: string (nullable = true)\n",
      "\n"
     ]
    }
   ],
   "source": [
    "df.printSchema()"
   ]
  },
  {
   "cell_type": "code",
   "execution_count": 51,
   "metadata": {},
   "outputs": [],
   "source": [
    "# save the datframe for modeling \n",
    "df.write.json('final_df.json',mode='overwrite')"
   ]
  },
  {
   "cell_type": "code",
   "execution_count": null,
   "metadata": {},
   "outputs": [],
   "source": []
  }
 ],
 "metadata": {
  "kernelspec": {
   "display_name": "Python 3",
   "language": "python",
   "name": "python3"
  },
  "language_info": {
   "codemirror_mode": {
    "name": "ipython",
    "version": 3
   },
   "file_extension": ".py",
   "mimetype": "text/x-python",
   "name": "python",
   "nbconvert_exporter": "python",
   "pygments_lexer": "ipython3",
   "version": "3.6.3"
  }
 },
 "nbformat": 4,
 "nbformat_minor": 2
}
